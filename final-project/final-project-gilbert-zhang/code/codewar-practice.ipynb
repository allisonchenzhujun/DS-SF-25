{
 "cells": [
  {
   "cell_type": "code",
   "execution_count": 41,
   "metadata": {
    "collapsed": true
   },
   "outputs": [],
   "source": [
    "def high_and_low(numbers):\n",
    "    nums = []\n",
    "    i = 0\n",
    "    while i < len(numbers):\n",
    "        if numbers[i] == \"-\":\n",
    "            nums.append(int(numbers[i+1])*(-1))\n",
    "            i = i+2\n",
    "        elif numbers[i] != \" \":\n",
    "            nums.append(int(numbers[i]))\n",
    "            i = i+1\n",
    "        else:\n",
    "            i = i+1\n",
    "    numbers = '{0} {1}'.format(max(nums), min(nums))\n",
    "    print numbers\n",
    "    print nums"
   ]
  },
  {
   "cell_type": "code",
   "execution_count": 48,
   "metadata": {
    "collapsed": true
   },
   "outputs": [],
   "source": [
    "numbers = '4 5 29 54 4 0 -214 542 -64 1 -3 6 -6'"
   ]
  },
  {
   "cell_type": "code",
   "execution_count": 51,
   "metadata": {
    "collapsed": false
   },
   "outputs": [
    {
     "name": "stdout",
     "output_type": "stream",
     "text": [
      "-1 -1\n",
      "[-1]\n"
     ]
    }
   ],
   "source": [
    "high_and_low(numbers)"
   ]
  },
  {
   "cell_type": "code",
   "execution_count": 52,
   "metadata": {
    "collapsed": true
   },
   "outputs": [],
   "source": [
    "numbers = '-1'"
   ]
  },
  {
   "cell_type": "code",
   "execution_count": 53,
   "metadata": {
    "collapsed": false
   },
   "outputs": [
    {
     "name": "stdout",
     "output_type": "stream",
     "text": [
      "-\n"
     ]
    }
   ],
   "source": [
    "print numbers[0]"
   ]
  },
  {
   "cell_type": "code",
   "execution_count": 151,
   "metadata": {
    "collapsed": false
   },
   "outputs": [],
   "source": [
    "def high_and_low(numbers):\n",
    "    nums = []\n",
    "    space = []\n",
    "    i = 0\n",
    "    n = 0\n",
    "    m = 0\n",
    "    while i < len(numbers):\n",
    "        if numbers[i] == ' ':\n",
    "             space.append(i)\n",
    "        i+=1\n",
    "    if len(space) == 0:\n",
    "        nums.append(int(numbers[0:len(numbers)]))\n",
    "    else:\n",
    "        while n < len(space):\n",
    "            nums.append(int(numbers[m:space[n]]))\n",
    "            m = space[n]\n",
    "            n+=1\n",
    "        nums.append(int(numbers[space[-1]:len(numbers)]))\n",
    "    numbers = '{0} {1}'.format(max(nums), min(nums))\n",
    "    print nums\n",
    "    print space\n",
    "    print numbers"
   ]
  },
  {
   "cell_type": "code",
   "execution_count": 152,
   "metadata": {
    "collapsed": true
   },
   "outputs": [],
   "source": [
    "numbers = '42'"
   ]
  },
  {
   "cell_type": "code",
   "execution_count": 153,
   "metadata": {
    "collapsed": false
   },
   "outputs": [
    {
     "name": "stdout",
     "output_type": "stream",
     "text": [
      "[42]\n",
      "[]\n",
      "42 42\n"
     ]
    }
   ],
   "source": [
    "high_and_low(numbers)"
   ]
  },
  {
   "cell_type": "code",
   "execution_count": 154,
   "metadata": {
    "collapsed": true
   },
   "outputs": [],
   "source": [
    "def high_and_low(numbers): #z.\n",
    "    nn = [int(s) for s in numbers.split(\" \")]\n",
    "    return \"%i %i\" % (max(nn),min(nn))"
   ]
  },
  {
   "cell_type": "code",
   "execution_count": null,
   "metadata": {
    "collapsed": true
   },
   "outputs": [],
   "source": [
    "def is_prime(num):\n",
    "    "
   ]
  }
 ],
 "metadata": {
  "kernelspec": {
   "display_name": "Python [Root]",
   "language": "python",
   "name": "Python [Root]"
  },
  "language_info": {
   "codemirror_mode": {
    "name": "ipython",
    "version": 2
   },
   "file_extension": ".py",
   "mimetype": "text/x-python",
   "name": "python",
   "nbconvert_exporter": "python",
   "pygments_lexer": "ipython2",
   "version": "2.7.12"
  }
 },
 "nbformat": 4,
 "nbformat_minor": 0
}
