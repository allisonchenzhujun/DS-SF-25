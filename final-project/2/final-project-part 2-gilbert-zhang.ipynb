{
 "cells": [
  {
   "cell_type": "markdown",
   "metadata": {},
   "source": [
    "## DS-SF-DAT-25 | Final Project, Part 2: Project Design Writeup and Approval - Gilbert Zhang"
   ]
  },
  {
   "cell_type": "markdown",
   "metadata": {},
   "source": [
    "### Project Problem and Hypothesis"
   ]
  },
  {
   "cell_type": "markdown",
   "metadata": {
    "collapsed": true
   },
   "source": [
    ">What's the project about? What problem are you solving?"
   ]
  },
  {
   "cell_type": "markdown",
   "metadata": {},
   "source": [
    "My project is about predicting NBA playoff performance from their regular season performance. Specifically, I am trying to understasnd the reasons why certain teams with great regular season performance that did not do well in the playoff while certain teams did."
   ]
  },
  {
   "cell_type": "markdown",
   "metadata": {},
   "source": [
    ">Where does this seem to reside as a machine learning problem? Are you predicting some continuous number, or predicting a binary value?"
   ]
  },
  {
   "cell_type": "markdown",
   "metadata": {},
   "source": [
    "It's a classification problem. I am trying to classify teams with certain regular season attributes into two main categories: winning champion or not winning champion. I am predicting categorical values."
   ]
  },
  {
   "cell_type": "markdown",
   "metadata": {},
   "source": [
    ">What kind of impact do you think it could have? What do you think will have the most impact in predicting the value you are interested in solving for?"
   ]
  },
  {
   "cell_type": "markdown",
   "metadata": {},
   "source": [
    "If project result is significant, it will definitely help NBA fans or even the professionals to understand the game better. It will especially help normal NBA fans like me to understand the game a bit more since, for most of the time, normal fan typically only have memory of specific games rather than a holistic view of what happened throughout the season."
   ]
  },
  {
   "cell_type": "markdown",
   "metadata": {},
   "source": [
    "### Datasets"
   ]
  },
  {
   "cell_type": "markdown",
   "metadata": {},
   "source": [
    ">Description of data set available, at the field level. (see table)"
   ]
  },
  {
   "cell_type": "markdown",
   "metadata": {},
   "source": [
    "I have a data set which will contain single game stats (all 82 games in one season) of the top 100 teams with the greatest regular season performance."
   ]
  },
  {
   "cell_type": "markdown",
   "metadata": {},
   "source": [
    "Data Dictionary:\n",
    "\n",
    "Variable | Description | Type of Variable\n",
    "---| ---| ---\n",
    "Chamption |1- champion, 2- not champion  | categorical\n",
    "G | indicates which game in a season | continuous\n",
    "Opp | opponent | categorical\n",
    "Points | team poins | continuous\n",
    "FG | field goals | continuous\n",
    "FGA | field goals attempt | continuous\n",
    "FG% | field goals percentage | continuous\n",
    "3P | 3-point field goals | continuous\n",
    "3PA | 3-point field goals attempt | continuous\n",
    "3P% | 3-point field goals percentage | continuous\n",
    "FT | free throw | continuous\n",
    "FTA | free throw attempt | continuous\n",
    "FT% | free throw percentage | continuous\n",
    "ORB | offensive rebounds | continuous\n",
    "TRB | total rebounds | continuous\n",
    "AST | assists | continuous\n",
    "STL | steals | continuous\n",
    "BLK | blocks | continuous\n",
    "PF | personal fouls | continuous\n",
    "Opp_metrics | opponent stats (all stats above is also available for opponents) | continuous\n",
    "Ortg | offensive rating | continuous\n",
    "Drtg | deffensive rating | continuous\n",
    "Pace | An estimate of possessions per 48 minutes | continuous\n",
    "FTr | free throw attempt rate| continuous\n",
    "3PAr | three point attempt rate| continuous\n",
    "TS% | true shooting percentage| continuous\n",
    "TRB% | total rebound percentage| continuous\n",
    "AST% | assist percentage| continuous\n",
    "STL% | steal percentage| continuous\n",
    "BLK% | block percentage| continuous\n",
    "eFG% | effective field goal percentage| continuous\n",
    "TOV% | turnover percentage| continuous\n",
    "ORB% | offensive rebounds percentage| continuous\n",
    "FT/FGA | FT per field goal attempt| continuous\n",
    "Opp_eFG% | opponent effective field goal percentage| continuous\n",
    "Opp_TOV% | opponent turnover percentage| continuous\n",
    "DRB% | defensive rebounds percentage| continuous\n",
    "Opp_FT/FGA | opponent FT per field goal attempt| continuous\n"
   ]
  },
  {
   "cell_type": "markdown",
   "metadata": {},
   "source": [
    "## Domain knowledge"
   ]
  },
  {
   "cell_type": "markdown",
   "metadata": {},
   "source": [
    ">What experience do you already have around this area?"
   ]
  },
  {
   "cell_type": "markdown",
   "metadata": {},
   "source": [
    "I have been watching NBA for more than 10 years and I also actively play basketball. I know how the game works and all the different metrics."
   ]
  },
  {
   "cell_type": "markdown",
   "metadata": {},
   "source": [
    ">Does it relate or help inform the project in any way?"
   ]
  },
  {
   "cell_type": "markdown",
   "metadata": {},
   "source": [
    "It definitely helps since I at least understand the language used in basketball. Also, my knowledge about part of the NBA history will for sure help too."
   ]
  },
  {
   "cell_type": "markdown",
   "metadata": {},
   "source": [
    ">What other research efforts exist?"
   ]
  },
  {
   "cell_type": "markdown",
   "metadata": {},
   "source": [
    "FiveThirtyEight has done some analytics projects on NBA history including ranking current players, projecting player performance as well as rating teams' history. It creates a ELO rating model which is based on different factors of a team, and by using the rating, it forecasts how a new season will play out for different teams. However, their project details are not shared publicly. And it will be difficult to know how their models perform historically."
   ]
  },
  {
   "cell_type": "markdown",
   "metadata": {},
   "source": [
    "There should be some other projects that are done - but it will require a little bit more research."
   ]
  },
  {
   "cell_type": "markdown",
   "metadata": {},
   "source": [
    "## Project Concerns"
   ]
  },
  {
   "cell_type": "markdown",
   "metadata": {},
   "source": [
    ">What questions do you have about your project? What are you not sure you quite yet understand? (The more honest you are about this, the easier your instructors can help)"
   ]
  },
  {
   "cell_type": "markdown",
   "metadata": {},
   "source": [
    "1) Data cleaning and consolidation - I was able to find the data set I need but the website doesn't seem to have a central place for downloading all the data I want. It seems I need to download the data one team at a time. 2) Model features selection - there are a lot of variables available, but how should I select the correct features is very challenging. 3) Missing data point - for some teams in the 'distant' past, certain variables will be unavailable. 4) NBA play style changed radically throught time - the attributes we found in champion team today might not be the same in the past. 5) Will have to perform additional explanatory analysis to come up with more questions."
   ]
  },
  {
   "cell_type": "markdown",
   "metadata": {},
   "source": [
    ">What are the assumptions and caveats to the problem?"
   ]
  },
  {
   "cell_type": "markdown",
   "metadata": {},
   "source": [
    "1) I am assuming that teams with the best SRS (Simple Rating System) in the regular season are champion calibre teams, which is basically my sample 2) I am assuming that the difference between great teams and 'true' champion' teams are significant - but it might not be the case. 3) I am assuming that all the team attributes and performance can be reflected in the game statistics. In reality, it might not be so."
   ]
  },
  {
   "cell_type": "markdown",
   "metadata": {},
   "source": [
    ">What are the risks to the project?"
   ]
  },
  {
   "cell_type": "markdown",
   "metadata": {},
   "source": [
    "1) I might select the wrong features and set up my model incorrectly. This can lead to a insignificant results - meaning that I cannot really predict whether teams with great regular season performance are title winning teams. 2) The data set I elect to use might be wrong since I don't have easy way to check the accuracy of every observation with the official data (from NBA.com, but data download is not allowed)."
   ]
  },
  {
   "cell_type": "markdown",
   "metadata": {},
   "source": [
    "## Outcomes"
   ]
  },
  {
   "cell_type": "markdown",
   "metadata": {},
   "source": [
    "> What do you expect the output to look like? What does your target audience expect the output to look like?"
   ]
  },
  {
   "cell_type": "markdown",
   "metadata": {},
   "source": [
    "Both my target audience and I should have the same expectation - there are certain attributes which separate the great regular season team and title winning team."
   ]
  },
  {
   "cell_type": "markdown",
   "metadata": {},
   "source": [
    ">What gain do you expect from your most important feature on its own?"
   ]
  },
  {
   "cell_type": "markdown",
   "metadata": {},
   "source": []
  },
  {
   "cell_type": "markdown",
   "metadata": {},
   "source": [
    ">How complicated does your model have to be?"
   ]
  },
  {
   "cell_type": "markdown",
   "metadata": {},
   "source": [
    "The simpler the better - but the level of complexity should be able to weight different attributes differently in prediction."
   ]
  },
  {
   "cell_type": "markdown",
   "metadata": {},
   "source": [
    ">How successful does your project have to be in order to be considered a \"success\"?"
   ]
  },
  {
   "cell_type": "markdown",
   "metadata": {},
   "source": [
    "I think I consider a this project to be successful if I can use what I learn from the class and go through the entire data science project cycle once."
   ]
  },
  {
   "cell_type": "markdown",
   "metadata": {},
   "source": [
    ">What will you do if the project is a bust (this happens! but it shouldn't here)?"
   ]
  },
  {
   "cell_type": "markdown",
   "metadata": {},
   "source": [
    "I will consider it as a 'bust' if my model didn't really do very well in prediction. But that's have to do with a lot of different things. If it really happens, then I will want to understand what can be done better and learn from it. IT'S only my FIRST data science project anyway right?!"
   ]
  }
 ],
 "metadata": {
  "anaconda-cloud": {},
  "kernelspec": {
   "display_name": "Python [Root]",
   "language": "python",
   "name": "Python [Root]"
  },
  "language_info": {
   "codemirror_mode": {
    "name": "ipython",
    "version": 2
   },
   "file_extension": ".py",
   "mimetype": "text/x-python",
   "name": "python",
   "nbconvert_exporter": "python",
   "pygments_lexer": "ipython2",
   "version": "2.7.12"
  }
 },
 "nbformat": 4,
 "nbformat_minor": 0
}
