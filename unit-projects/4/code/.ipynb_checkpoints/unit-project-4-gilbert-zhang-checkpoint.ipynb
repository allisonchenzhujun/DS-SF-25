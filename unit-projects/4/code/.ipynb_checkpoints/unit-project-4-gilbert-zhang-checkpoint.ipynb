{
 "cells": [
  {
   "cell_type": "markdown",
   "metadata": {},
   "source": [
    "# DS-SF-25 | Unit Project 4: Notebook with Executive Summary | Gilbert Zhang\n",
    "\n",
    "In this project, you will summarize and present your analysis from Unit Projects 1-3."
   ]
  },
  {
   "cell_type": "markdown",
   "metadata": {},
   "source": [
    "## Libraries and data load"
   ]
  },
  {
   "cell_type": "code",
   "execution_count": 2,
   "metadata": {
    "collapsed": true
   },
   "outputs": [],
   "source": [
    "import os\n",
    "import numpy as np\n",
    "import pandas as pd\n",
    "import statsmodels.formula.api as smf\n",
    "import statsmodels.api as sm\n",
    "from sklearn import linear_model\n",
    "import pylab as pl\n",
    "\n",
    "pd.set_option('display.max_rows', 10)\n",
    "pd.set_option('display.max_columns', 10)\n",
    "pd.set_option('display.notebook_repr_html', True)"
   ]
  },
  {
   "cell_type": "code",
   "execution_count": 3,
   "metadata": {
    "collapsed": true
   },
   "outputs": [],
   "source": [
    "df = pd.read_csv(os.path.join('..', '..', 'dataset', 'ucla-admissions.csv'))"
   ]
  },
  {
   "cell_type": "markdown",
   "metadata": {},
   "source": [
    "> ## Question 1.  Introduction\n",
    "> Write a problem statement for this project."
   ]
  },
  {
   "cell_type": "markdown",
   "metadata": {},
   "source": [
    "Answer: Did candidate with higher prestige of Alma mater (lower value of the variable 'prestige') have better chance of getting admitted? "
   ]
  },
  {
   "cell_type": "markdown",
   "metadata": {},
   "source": [
    "> ## Question 2.  Dataset\n",
    "> Write up a description of your data and any cleaning that was completed."
   ]
  },
  {
   "cell_type": "markdown",
   "metadata": {},
   "source": [
    "Answer: Data cleaning mainly consists of dropping observations with NaN in any of the three predicting variables (gre, gpa and prestige). I dropped a total of 3 observations (out of a total 400 observations)."
   ]
  },
  {
   "cell_type": "markdown",
   "metadata": {
    "collapsed": true
   },
   "source": [
    "> ## Question 3.  Demo\n",
    "> Provide a table that explains the data by admission status."
   ]
  },
  {
   "cell_type": "markdown",
   "metadata": {},
   "source": [
    "Answer: Mean (std) or count by admission status for each feature:\n",
    "\n",
    "| Not Admitted | Admitted\n",
    "---|---|---\n",
    "GPA | 3.347159 (0.376355) | 3.489206 (0.371655)\n",
    "GRE | 573.579336 (116.052798) | 618.571429 (109.257233)\n",
    "Prestige 1 | 28 | 33\n",
    "Prestige 2 | 95 | 53\n",
    "Prestige 3 | 93 | 28\n",
    "Prestige 4 | 55 | 12"
   ]
  },
  {
   "cell_type": "markdown",
   "metadata": {},
   "source": [
    "> ## Question 4. Methods\n",
    "> Write up the methods used in your analysis."
   ]
  },
  {
   "cell_type": "markdown",
   "metadata": {},
   "source": [
    "Answer: The analysis method that I used include using calculation of odds for being admitted for each prestige category and a logistic regression."
   ]
  },
  {
   "cell_type": "markdown",
   "metadata": {},
   "source": [
    "> ## Question 5. Results\n",
    "> Write up your results."
   ]
  },
  {
   "cell_type": "markdown",
   "metadata": {},
   "source": [
    "Answer:"
   ]
  },
  {
   "cell_type": "markdown",
   "metadata": {},
   "source": [
    "Odds calculation: The odds of being admitted for candidates with highest prestige is 1.1785714285714286 while the odds for the rest is 0.38271604938271603. The odds ratio is 2.6129032258064515, meaning that the odds for candidates with highest prestige is more than double that of the rest candidates."
   ]
  },
  {
   "cell_type": "markdown",
   "metadata": {},
   "source": [
    "Logistic regression: I used prestige 1 as baseline. The coefficients for prestige 2,3 and 4 are -0.6801, -1.3387 and -1.5534."
   ]
  },
  {
   "cell_type": "markdown",
   "metadata": {},
   "source": [
    "Interpretation:"
   ]
  },
  {
   "cell_type": "code",
   "execution_count": 20,
   "metadata": {
    "collapsed": false
   },
   "outputs": [
    {
     "data": {
      "text/plain": [
       "0.50656633319935351"
      ]
     },
     "execution_count": 20,
     "metadata": {},
     "output_type": "execute_result"
    }
   ],
   "source": [
    "#Prestige2: The odd of being admitted for candidates wtih prestige 2 is 51% of the odd of candidates with prestige 1.\n",
    "np.exp(-0.6801)"
   ]
  },
  {
   "cell_type": "code",
   "execution_count": 21,
   "metadata": {
    "collapsed": false
   },
   "outputs": [
    {
     "data": {
      "text/plain": [
       "0.26218628930498067"
      ]
     },
     "execution_count": 21,
     "metadata": {},
     "output_type": "execute_result"
    }
   ],
   "source": [
    "#Prestige3: The odd of being admitted for candidates wtih prestige 3 is 26% of the odd of candidates with prestige 1.\n",
    "np.exp(-1.3387)"
   ]
  },
  {
   "cell_type": "code",
   "execution_count": 19,
   "metadata": {
    "collapsed": false
   },
   "outputs": [
    {
     "data": {
      "text/plain": [
       "0.21152755611983615"
      ]
     },
     "execution_count": 19,
     "metadata": {},
     "output_type": "execute_result"
    }
   ],
   "source": [
    "#Prestige4: The odd of being admitted for candidates wtih prestige 4 is 21% of the odd of candidates with prestige 1.\n",
    "np.exp(-1.5534)"
   ]
  },
  {
   "cell_type": "markdown",
   "metadata": {},
   "source": [
    "> ## Question 6. Visuals\n",
    "> Provide a table or visualization of these results."
   ]
  },
  {
   "cell_type": "markdown",
   "metadata": {},
   "source": [
    "variables| coef | P-value\n",
    "---|---|---\n",
    "const | -3.8769\t | 0.001\n",
    "GPA | 0.7793 | 0.019\n",
    "GRE | 0.0022 | 0.043\n",
    "Prestige 2 | -0.6801 | 0.032\n",
    "Prestige 3 | -1.3387 | 0.000\n",
    "Prestige 4 | -1.5534 | 0.000"
   ]
  },
  {
   "cell_type": "markdown",
   "metadata": {},
   "source": [
    "> ## Question 7.  Discussion\n",
    "> Write up your discussion and future steps."
   ]
  },
  {
   "cell_type": "markdown",
   "metadata": {},
   "source": [
    "Answer: Future steps include: 1. Calculate probability for each prestige 2. Split the dataset into testing and training to access the realiability of the model."
   ]
  }
 ],
 "metadata": {
  "anaconda-cloud": {},
  "kernelspec": {
   "display_name": "Python [Root]",
   "language": "python",
   "name": "Python [Root]"
  },
  "language_info": {
   "codemirror_mode": {
    "name": "ipython",
    "version": 2
   },
   "file_extension": ".py",
   "mimetype": "text/x-python",
   "name": "python",
   "nbconvert_exporter": "python",
   "pygments_lexer": "ipython2",
   "version": "2.7.12"
  }
 },
 "nbformat": 4,
 "nbformat_minor": 0
}
