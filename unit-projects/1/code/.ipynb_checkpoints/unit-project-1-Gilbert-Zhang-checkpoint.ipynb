{
 "cells": [
  {
   "cell_type": "markdown",
   "metadata": {},
   "source": [
    "# DS-SF-25 | Lab 03 - Descriptive Statistics for Exploratory Data Analysis - GZ"
   ]
  },
  {
   "cell_type": "markdown",
   "metadata": {},
   "source": [
    "## Evaluate the following problem statement:"
   ]
  },
  {
   "cell_type": "markdown",
   "metadata": {},
   "source": [
    "> \"Determine whether non-top tier school applicants' (`Prestige > 2`) GPA is weighted less in the admission decision than top tier school applicants (`Prestige <= 2`).\""
   ]
  },
  {
   "cell_type": "markdown",
   "metadata": {},
   "source": [
    "> ### Question 1.  What is the outcome?"
   ]
  },
  {
   "cell_type": "markdown",
   "metadata": {},
   "source": [
    "Answer: Evaluate weather it's true that non-top tier school GPA is less weighted or there is no difference."
   ]
  },
  {
   "cell_type": "markdown",
   "metadata": {},
   "source": [
    "> ### Question 2.  What are the predictors/covariates?"
   ]
  },
  {
   "cell_type": "markdown",
   "metadata": {},
   "source": [
    "Answer: GPA, Prestige and Admit."
   ]
  },
  {
   "cell_type": "markdown",
   "metadata": {},
   "source": [
    "> ### Question 3.  Create a data dictionary."
   ]
  },
  {
   "cell_type": "markdown",
   "metadata": {},
   "source": [
    "Answer:\n",
    "\n",
    "Variable | Description | Type of Variable\n",
    "---| ---| ---\n",
    "Admit |1- admitted, 2- not admitted  | categorical\n",
    "GRE | Graduate Record Examination scores | continuous\n",
    "GPA | Grade Point Average | continuous\n",
    "Prestige | Prestige of an applicant alta mater with 1 as highest prestige and 4 as lowest | categorical\n"
   ]
  },
  {
   "cell_type": "markdown",
   "metadata": {},
   "source": [
    "> ### Question 4.  What is the hypothesis?"
   ]
  },
  {
   "cell_type": "markdown",
   "metadata": {},
   "source": [
    "Answer: GPA for less prestiged school applicants are less important in admission decision."
   ]
  },
  {
   "cell_type": "markdown",
   "metadata": {},
   "source": [
    "> ### Question 8.  What timeframe is this data relevent for?"
   ]
  },
  {
   "cell_type": "markdown",
   "metadata": {},
   "source": [
    "Answer: Timeframe is not relevent since the data is cross sectional instread of time series."
   ]
  },
  {
   "cell_type": "markdown",
   "metadata": {},
   "source": [
    "> ### Question 5.  Outline Exploratory Data Analysis Method "
   ]
  },
  {
   "cell_type": "markdown",
   "metadata": {
    "collapsed": true
   },
   "source": [
    "1.Understand the central tendancy and dispersion of the (GPA and GRE)\n",
    "\n",
    "2.Discover if there is any NaN value in the dataset and the magnitude of them\n",
    "\n",
    "3.Understand the proportion of applicants who are admitted as well as the proportion of applicants who graduated from top tier vs non-top tier school\n",
    "\n",
    "4.Using boxplot and histogram to understsand the distribution of GPA and GRE score\n",
    "\n",
    "5.Discover if there is any outlier and access their impact\n",
    "\n",
    "6.Calculate correlations between all variables"
   ]
  },
  {
   "cell_type": "markdown",
   "metadata": {},
   "source": [
    "> ### Question 6.  Risks and Assumptions"
   ]
  },
  {
   "cell_type": "markdown",
   "metadata": {},
   "source": [
    "1.Sample size seems to be relatively small\n",
    "\n",
    "2.We are assuming all schools' GPA are calculated in a relatively same way and that the they are comparable \n",
    "\n",
    "3.We don't know about how school prestige is defined and assume it correctly reflects the actual quality of the school \n",
    "\n",
    "4.Different education programs quality might differ within one school "
   ]
  }
 ],
 "metadata": {
  "anaconda-cloud": {},
  "kernelspec": {
   "display_name": "Python [Root]",
   "language": "python",
   "name": "Python [Root]"
  },
  "language_info": {
   "codemirror_mode": {
    "name": "ipython",
    "version": 2
   },
   "file_extension": ".py",
   "mimetype": "text/x-python",
   "name": "python",
   "nbconvert_exporter": "python",
   "pygments_lexer": "ipython2",
   "version": "2.7.12"
  }
 },
 "nbformat": 4,
 "nbformat_minor": 0
}
