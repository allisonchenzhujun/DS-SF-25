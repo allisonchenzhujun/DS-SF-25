{
 "cells": [
  {
   "cell_type": "code",
   "execution_count": 12,
   "metadata": {
    "collapsed": true
   },
   "outputs": [],
   "source": [
    "import os\n",
    "\n",
    "import pandas as pd\n",
    "pd.set_option('display.max_rows', 10)\n",
    "pd.set_option('display.notebook_repr_html', True)\n",
    "pd.set_option('display.max_columns', 10)\n",
    "from sklearn import decomposition, cluster\n",
    "from statsmodels.tsa import arima_model\n",
    "from statsmodels.graphics.tsaplots import plot_acf\n",
    "\n",
    "import matplotlib.pyplot as plt\n",
    "%matplotlib inline\n",
    "plt.style.use('ggplot')"
   ]
  },
  {
   "cell_type": "code",
   "execution_count": 31,
   "metadata": {
    "collapsed": false
   },
   "outputs": [],
   "source": [
    "df = pd.read_csv(os.path.join('datasets', 'ford-ka.csv'),\n",
    "                 skipinitialspace = True,\n",
    "                 low_memory = False, index_col ='id')"
   ]
  },
  {
   "cell_type": "code",
   "execution_count": 32,
   "metadata": {
    "collapsed": false
   },
   "outputs": [
    {
     "data": {
      "text/plain": [
       "(250, 62)"
      ]
     },
     "execution_count": 32,
     "metadata": {},
     "output_type": "execute_result"
    }
   ],
   "source": [
    "df.shape"
   ]
  },
  {
   "cell_type": "code",
   "execution_count": 33,
   "metadata": {
    "collapsed": false
   },
   "outputs": [
    {
     "data": {
      "text/plain": [
       "0"
      ]
     },
     "execution_count": 33,
     "metadata": {},
     "output_type": "execute_result"
    }
   ],
   "source": [
    "df.isnull().sum().sum()"
   ]
  },
  {
   "cell_type": "code",
   "execution_count": 34,
   "metadata": {
    "collapsed": true
   },
   "outputs": [],
   "source": [
    "df =(df-4)/3"
   ]
  },
  {
   "cell_type": "code",
   "execution_count": 35,
   "metadata": {
    "collapsed": false
   },
   "outputs": [
    {
     "data": {
      "text/html": [
       "<div>\n",
       "<table border=\"1\" class=\"dataframe\">\n",
       "  <thead>\n",
       "    <tr style=\"text-align: right;\">\n",
       "      <th></th>\n",
       "      <th>Q1</th>\n",
       "      <th>Q2</th>\n",
       "      <th>Q3</th>\n",
       "      <th>Q4</th>\n",
       "      <th>Q5</th>\n",
       "      <th>...</th>\n",
       "      <th>Q58</th>\n",
       "      <th>Q59</th>\n",
       "      <th>Q60</th>\n",
       "      <th>Q61</th>\n",
       "      <th>Q62</th>\n",
       "    </tr>\n",
       "    <tr>\n",
       "      <th>id</th>\n",
       "      <th></th>\n",
       "      <th></th>\n",
       "      <th></th>\n",
       "      <th></th>\n",
       "      <th></th>\n",
       "      <th></th>\n",
       "      <th></th>\n",
       "      <th></th>\n",
       "      <th></th>\n",
       "      <th></th>\n",
       "      <th></th>\n",
       "    </tr>\n",
       "  </thead>\n",
       "  <tbody>\n",
       "    <tr>\n",
       "      <th>1</th>\n",
       "      <td>0.666667</td>\n",
       "      <td>-0.666667</td>\n",
       "      <td>0.0</td>\n",
       "      <td>-0.333333</td>\n",
       "      <td>-1.0</td>\n",
       "      <td>...</td>\n",
       "      <td>-0.333333</td>\n",
       "      <td>0.000000</td>\n",
       "      <td>0.000000</td>\n",
       "      <td>0.0</td>\n",
       "      <td>-0.666667</td>\n",
       "    </tr>\n",
       "    <tr>\n",
       "      <th>2</th>\n",
       "      <td>1.000000</td>\n",
       "      <td>1.000000</td>\n",
       "      <td>1.0</td>\n",
       "      <td>0.333333</td>\n",
       "      <td>0.0</td>\n",
       "      <td>...</td>\n",
       "      <td>0.000000</td>\n",
       "      <td>-0.333333</td>\n",
       "      <td>0.333333</td>\n",
       "      <td>0.0</td>\n",
       "      <td>0.333333</td>\n",
       "    </tr>\n",
       "  </tbody>\n",
       "</table>\n",
       "<p>2 rows × 62 columns</p>\n",
       "</div>"
      ],
      "text/plain": [
       "          Q1        Q2   Q3        Q4   Q5    ...          Q58       Q59  \\\n",
       "id                                            ...                          \n",
       "1   0.666667 -0.666667  0.0 -0.333333 -1.0    ...    -0.333333  0.000000   \n",
       "2   1.000000  1.000000  1.0  0.333333  0.0    ...     0.000000 -0.333333   \n",
       "\n",
       "         Q60  Q61       Q62  \n",
       "id                           \n",
       "1   0.000000  0.0 -0.666667  \n",
       "2   0.333333  0.0  0.333333  \n",
       "\n",
       "[2 rows x 62 columns]"
      ]
     },
     "execution_count": 35,
     "metadata": {},
     "output_type": "execute_result"
    }
   ],
   "source": [
    "df.head(2)"
   ]
  },
  {
   "cell_type": "code",
   "execution_count": 37,
   "metadata": {
    "collapsed": true
   },
   "outputs": [],
   "source": [
    "# no y\n",
    "X=df"
   ]
  },
  {
   "cell_type": "code",
   "execution_count": 38,
   "metadata": {
    "collapsed": false
   },
   "outputs": [],
   "source": [
    "pca = decomposition.PCA().fit(X)"
   ]
  },
  {
   "cell_type": "code",
   "execution_count": 39,
   "metadata": {
    "collapsed": false
   },
   "outputs": [
    {
     "data": {
      "text/plain": [
       "62"
      ]
     },
     "execution_count": 39,
     "metadata": {},
     "output_type": "execute_result"
    }
   ],
   "source": [
    "pca.n_components_"
   ]
  },
  {
   "cell_type": "code",
   "execution_count": 40,
   "metadata": {
    "collapsed": false
   },
   "outputs": [
    {
     "data": {
      "text/plain": [
       "0.99999999999999989"
      ]
     },
     "execution_count": 40,
     "metadata": {},
     "output_type": "execute_result"
    }
   ],
   "source": [
    "sum(pca.explained_variance_ratio_)"
   ]
  },
  {
   "cell_type": "code",
   "execution_count": 41,
   "metadata": {
    "collapsed": false
   },
   "outputs": [
    {
     "data": {
      "image/png": "[encoded data removed]",
      "text/plain": [
       "<matplotlib.figure.Figure at 0x11f0d9b50>"
      ]
     },
     "metadata": {},
     "output_type": "display_data"
    }
   ],
   "source": [
    "a = pd.Series(pca.explained_variance_ratio_).plot()"
   ]
  },
  {
   "cell_type": "code",
   "execution_count": 42,
   "metadata": {
    "collapsed": false
   },
   "outputs": [
    {
     "data": {
      "text/plain": [
       "array([ 0.34307738,  0.17691961,  0.09244568,  0.01479303,  0.01348088,\n",
       "        0.01287346,  0.01252905,  0.01229448,  0.0116312 ,  0.01155003,\n",
       "        0.01141081,  0.01088612,  0.01065068,  0.01023675,  0.00980565,\n",
       "        0.00970013,  0.00935484,  0.00912774,  0.00890327,  0.0085995 ,\n",
       "        0.00841132,  0.0082796 ,  0.00811105,  0.00776238,  0.00758853,\n",
       "        0.00740232,  0.00694244,  0.00668767,  0.00654599,  0.0065302 ,\n",
       "        0.00634308,  0.00614083,  0.00605071,  0.00577515,  0.00561425,\n",
       "        0.00548123,  0.0053805 ,  0.00487332,  0.00483682,  0.00474037,\n",
       "        0.00466974,  0.00447012,  0.004349  ,  0.00418052,  0.00401993,\n",
       "        0.00395991,  0.00387482,  0.00370367,  0.00361474,  0.00342931,\n",
       "        0.00328957,  0.00294592,  0.00286619,  0.00283253,  0.00277463,\n",
       "        0.00262121,  0.00246656,  0.00231566,  0.00216999,  0.00197679,\n",
       "        0.00192215,  0.00177897])"
      ]
     },
     "execution_count": 42,
     "metadata": {},
     "output_type": "execute_result"
    }
   ],
   "source": [
    "pca.explained_variance_ratio_"
   ]
  },
  {
   "cell_type": "code",
   "execution_count": 43,
   "metadata": {
    "collapsed": false
   },
   "outputs": [
    {
     "data": {
      "text/plain": [
       "0.62723570160132935"
      ]
     },
     "execution_count": 43,
     "metadata": {},
     "output_type": "execute_result"
    }
   ],
   "source": [
    "sum(pca.explained_variance_ratio_[:4])"
   ]
  },
  {
   "cell_type": "code",
   "execution_count": 44,
   "metadata": {
    "collapsed": false
   },
   "outputs": [
    {
     "data": {
      "text/plain": [
       "0.51999698854580845"
      ]
     },
     "execution_count": 44,
     "metadata": {},
     "output_type": "execute_result"
    }
   ],
   "source": [
    "sum(pca.explained_variance_ratio_[:2])"
   ]
  },
  {
   "cell_type": "code",
   "execution_count": 53,
   "metadata": {
    "collapsed": false
   },
   "outputs": [
    {
     "data": {
      "text/plain": [
       "array([-0.12577537, -0.2491406 ,  0.03645547, -0.0105424 , -0.04273589,\n",
       "        0.0033516 , -0.0152586 ,  0.01515754, -0.01752959, -0.01611837,\n",
       "       -0.01054679,  0.00469479,  0.00487821,  0.27841571,  0.124893  ,\n",
       "        0.06563113,  0.07812936,  0.07372915,  0.07518434,  0.23776038,\n",
       "        0.12629219,  0.10989835, -0.24211242,  0.0973232 , -0.10295019,\n",
       "       -0.11630221, -0.05474295, -0.11088435, -0.05697831, -0.06141435,\n",
       "        0.24134675,  0.03465318,  0.02306766,  0.03749209,  0.03257185,\n",
       "        0.03559992,  0.09490619,  0.03549206, -0.03692966, -0.02706469,\n",
       "       -0.25218113, -0.07573602, -0.02462451, -0.20334689, -0.16662563,\n",
       "       -0.17083451, -0.1843823 , -0.17680325, -0.16701571, -0.16581035,\n",
       "        0.17520271,  0.22510021,  0.22368121,  0.17055017,  0.1764336 ,\n",
       "        0.17574285,  0.04739211,  0.04493842,  0.03735751, -0.05007606,\n",
       "       -0.07448159, -0.05265921])"
      ]
     },
     "execution_count": 53,
     "metadata": {},
     "output_type": "execute_result"
    }
   ],
   "source": [
    "pca.components_[0]"
   ]
  },
  {
   "cell_type": "code",
   "execution_count": 50,
   "metadata": {
    "collapsed": false
   },
   "outputs": [],
   "source": [
    "pca = decomposition.PCA(n_components=2).fit(X)"
   ]
  },
  {
   "cell_type": "code",
   "execution_count": 51,
   "metadata": {
    "collapsed": false
   },
   "outputs": [
    {
     "data": {
      "text/plain": [
       "2"
      ]
     },
     "execution_count": 51,
     "metadata": {},
     "output_type": "execute_result"
    }
   ],
   "source": [
    "len(pca.components_)"
   ]
  },
  {
   "cell_type": "code",
   "execution_count": 52,
   "metadata": {
    "collapsed": false
   },
   "outputs": [
    {
     "data": {
      "text/plain": [
       "array([ 0.34307738,  0.17691961])"
      ]
     },
     "execution_count": 52,
     "metadata": {},
     "output_type": "execute_result"
    }
   ],
   "source": [
    "pca.explained_variance_ratio_"
   ]
  },
  {
   "cell_type": "code",
   "execution_count": 55,
   "metadata": {
    "collapsed": false
   },
   "outputs": [],
   "source": [
    "X = pca.transform(X)"
   ]
  },
  {
   "cell_type": "code",
   "execution_count": 57,
   "metadata": {
    "collapsed": false
   },
   "outputs": [],
   "source": [
    "X = pd.DataFrame({'PC0':X.T[0], 'PC1': X.T[1]})"
   ]
  },
  {
   "cell_type": "code",
   "execution_count": 60,
   "metadata": {
    "collapsed": false
   },
   "outputs": [
    {
     "data": {
      "text/plain": [
       "<matplotlib.axes._subplots.AxesSubplot at 0x11f06ae90>"
      ]
     },
     "execution_count": 60,
     "metadata": {},
     "output_type": "execute_result"
    },
    {
     "data": {
      "image/png": "[encoded data removed]",
      "text/plain": [
       "<matplotlib.figure.Figure at 0x11f06a4d0>"
      ]
     },
     "metadata": {},
     "output_type": "display_data"
    }
   ],
   "source": [
    "X.plot(kind = 'scatter', x = 'PC0', y = 'PC1')"
   ]
  },
  {
   "cell_type": "code",
   "execution_count": 101,
   "metadata": {
    "collapsed": false
   },
   "outputs": [],
   "source": [
    "model = cluster.KMeans(n_clusters = 5, random_state = 0).fit(X)"
   ]
  },
  {
   "cell_type": "code",
   "execution_count": 102,
   "metadata": {
    "collapsed": false
   },
   "outputs": [
    {
     "data": {
      "text/plain": [
       "array([1, 2, 4, 1, 4, 2, 2, 2, 3, 1, 2, 0, 3, 1, 2, 1, 2, 1, 2, 3, 4, 0, 2,\n",
       "       0, 4, 3, 4, 1, 1, 1, 0, 2, 1, 1, 4, 4, 4, 4, 2, 3, 2, 1, 4, 1, 4, 4,\n",
       "       1, 1, 4, 1, 1, 3, 4, 4, 3, 3, 1, 0, 2, 0, 1, 1, 2, 1, 3, 0, 2, 2, 1,\n",
       "       2, 2, 1, 3, 0, 2, 3, 1, 4, 1, 1, 2, 0, 2, 2, 0, 2, 1, 2, 3, 4, 1, 3,\n",
       "       4, 1, 0, 2, 1, 1, 2, 3, 0, 0, 4, 2, 3, 2, 1, 0, 2, 2, 4, 3, 1, 2, 2,\n",
       "       0, 1, 2, 2, 2, 2, 1, 2, 0, 3, 0, 1, 2, 1, 0, 4, 3, 2, 3, 1, 2, 0, 1,\n",
       "       0, 1, 1, 2, 1, 1, 3, 4, 3, 2, 2, 2, 2, 1, 2, 2, 2, 3, 2, 2, 1, 1, 1,\n",
       "       4, 2, 2, 2, 2, 2, 4, 2, 3, 2, 3, 2, 2, 4, 2, 1, 1, 4, 0, 3, 1, 0, 3,\n",
       "       0, 2, 4, 4, 1, 1, 0, 0, 2, 2, 0, 0, 3, 1, 1, 1, 4, 1, 4, 3, 1, 4, 1,\n",
       "       1, 3, 2, 1, 2, 3, 1, 1, 4, 2, 1, 1, 2, 0, 2, 0, 2, 2, 2, 2, 3, 1, 1,\n",
       "       1, 1, 3, 1, 4, 1, 1, 2, 2, 3, 1, 2, 4, 1, 2, 2, 0, 3, 4, 2], dtype=int32)"
      ]
     },
     "execution_count": 102,
     "metadata": {},
     "output_type": "execute_result"
    }
   ],
   "source": [
    "model.labels_"
   ]
  },
  {
   "cell_type": "code",
   "execution_count": 103,
   "metadata": {
    "collapsed": true
   },
   "outputs": [],
   "source": [
    "cluster_= pd.Series(model.labels_)"
   ]
  },
  {
   "cell_type": "code",
   "execution_count": 104,
   "metadata": {
    "collapsed": false
   },
   "outputs": [
    {
     "data": {
      "text/plain": [
       "0      1\n",
       "1      2\n",
       "2      4\n",
       "3      1\n",
       "4      4\n",
       "      ..\n",
       "245    2\n",
       "246    0\n",
       "247    3\n",
       "248    4\n",
       "249    2\n",
       "dtype: int32"
      ]
     },
     "execution_count": 104,
     "metadata": {},
     "output_type": "execute_result"
    }
   ],
   "source": [
    "cluster_"
   ]
  },
  {
   "cell_type": "code",
   "execution_count": 105,
   "metadata": {
    "collapsed": true
   },
   "outputs": [],
   "source": [
    "color = cluster_.map(pd.Series({0: 'red', 1: 'green', 2:'blue', 3:'yellow', 4:'black'}))"
   ]
  },
  {
   "cell_type": "code",
   "execution_count": 106,
   "metadata": {
    "collapsed": false
   },
   "outputs": [
    {
     "data": {
      "text/plain": [
       "<matplotlib.axes._subplots.AxesSubplot at 0x120af9d10>"
      ]
     },
     "execution_count": 106,
     "metadata": {},
     "output_type": "execute_result"
    },
    {
     "data": {
      "image/png": "[encoded data removed]",
      "text/plain": [
       "<matplotlib.figure.Figure at 0x120984890>"
      ]
     },
     "metadata": {},
     "output_type": "display_data"
    }
   ],
   "source": [
    "X.plot(kind = 'scatter', x = 'PC0', y = 'PC1', c=color)"
   ]
  },
  {
   "cell_type": "code",
   "execution_count": 107,
   "metadata": {
    "collapsed": true
   },
   "outputs": [],
   "source": [
    "first_component = pd.Series(pca.components_[0])"
   ]
  },
  {
   "cell_type": "code",
   "execution_count": 108,
   "metadata": {
    "collapsed": false
   },
   "outputs": [
    {
     "data": {
      "text/plain": [
       "0    -0.125775\n",
       "1    -0.249141\n",
       "2     0.036455\n",
       "3    -0.010542\n",
       "4    -0.042736\n",
       "        ...   \n",
       "57    0.044938\n",
       "58    0.037358\n",
       "59   -0.050076\n",
       "60   -0.074482\n",
       "61   -0.052659\n",
       "dtype: float64"
      ]
     },
     "execution_count": 108,
     "metadata": {},
     "output_type": "execute_result"
    }
   ],
   "source": [
    "first_component"
   ]
  },
  {
   "cell_type": "code",
   "execution_count": 110,
   "metadata": {
    "collapsed": false
   },
   "outputs": [],
   "source": [
    "first_component = first_component.sort_values(ascending = False)"
   ]
  },
  {
   "cell_type": "code",
   "execution_count": 111,
   "metadata": {
    "collapsed": true
   },
   "outputs": [],
   "source": [
    "questions = '''I want a car that is trendy\n",
    "I am fashion conscious\n",
    "I do not have the time to worry about car maintenance\n",
    "Basic transportation is all I need\n",
    "Small cars are not prestigious\n",
    "Today's cars last much longer than yesterday's\n",
    "My car must function with total reliability\n",
    "I want a car that is easy to handle\n",
    "I am looking for a car which delivers a smooth ride\n",
    "When I buy a car, dependability is most important to me\n",
    "Today's cars are more efficient than yesterday's\n",
    "I want a car that is fuel economic\n",
    "I love to drive\n",
    "The car I buy must be able to handle long motorway journeys\n",
    "I want the most equipment I can get for my money\n",
    "I want a vehicle that is environmentally friendly\n",
    "I want a car that is nippy and zippy\n",
    "I prefer buying my next car from the same car manufacturer\n",
    "I wish there were stricter exhaust regulations\n",
    "One should not spend beyond ones means\n",
    "Good aerodynamics help fuel economy\n",
    "Small cars are much safer nowadays\n",
    "Buying a car on a lower interest rate does not interest me\n",
    "I want a car that drives well on country roads\n",
    "I consider myself an authority on cars\n",
    "Small cars are for kids\n",
    "Small cars are for women\n",
    "Domestic made is best made\n",
    "A car is a fashion accessory to me\n",
    "Having a masculine car is important to me\n",
    "I want a comfortable car\n",
    "City driving is my main concern\n",
    "Fuel economy comes at the expense of performance\n",
    "I want a practical car\n",
    "I have always been fascinated by cars which have a cult following\n",
    "I like to believe that the car I drive will one day become a cult car\n",
    "I prefer cars with high performance\n",
    "I do not believe that a Swatch branded car will be successful\n",
    "Small cars take up less room in today's traffic\n",
    "I prefer small cars\n",
    "In today's world it is anti-social to drive big cars\n",
    "Many manufacturers do not really care about their customers needs\n",
    "I would rather deal with a manufacturer's rep than a salesperson\n",
    "I want to buy a car that makes a statement about me\n",
    "A car is an extension of oneself\n",
    "I always want the latest style and design in a vehicle\n",
    "When it comes to cars my heart rules my head\n",
    "My car must have a very individual interior\n",
    "Nowadays smart cars are mainly foreign brands\n",
    "People ought to buy domestic products for the good of the country\n",
    "I want a car equipped with the latest features and technology\n",
    "I have a relationship with my car\n",
    "Quality and reliability of products are my main concerns\n",
    "Image is not important to me in a car\n",
    "Cars all look the same these days\n",
    "Most environmentally friendly products do not perform as well as those they replaced\n",
    "I want a car that has character\n",
    "For me a car is a symbol of freedom and independence\n",
    "I am interested in car maintenance\n",
    "When buying a car I only consider a national make\n",
    "The government should implement policies that favor public transportation\n",
    "The government is right to tax large cars more heavily than small cars'''"
   ]
  },
  {
   "cell_type": "code",
   "execution_count": 116,
   "metadata": {
    "collapsed": false
   },
   "outputs": [
    {
     "ename": "AttributeError",
     "evalue": "'list' object has no attribute 'splitlines'",
     "output_type": "error",
     "traceback": [
      "\u001b[0;31m---------------------------------------------------------------------------\u001b[0m",
      "\u001b[0;31mAttributeError\u001b[0m                            Traceback (most recent call last)",
      "\u001b[0;32m<ipython-input-116-25e9b0791cba>\u001b[0m in \u001b[0;36m<module>\u001b[0;34m()\u001b[0m\n\u001b[0;32m----> 1\u001b[0;31m \u001b[0mquestions\u001b[0m \u001b[0;34m=\u001b[0m \u001b[0mquestions\u001b[0m\u001b[0;34m.\u001b[0m\u001b[0msplitlines\u001b[0m\u001b[0;34m(\u001b[0m\u001b[0;34m)\u001b[0m\u001b[0;34m\u001b[0m\u001b[0m\n\u001b[0m",
      "\u001b[0;31mAttributeError\u001b[0m: 'list' object has no attribute 'splitlines'"
     ]
    }
   ],
   "source": [
    "questions = questions.splitlines()"
   ]
  },
  {
   "cell_type": "code",
   "execution_count": 118,
   "metadata": {
    "collapsed": false
   },
   "outputs": [],
   "source": [
    "questions = pd.Series(questions)"
   ]
  },
  {
   "cell_type": "code",
   "execution_count": 122,
   "metadata": {
    "collapsed": true
   },
   "outputs": [],
   "source": [
    "def interpret(v):\n",
    "    v = pd.Series(v).sort_values(ascending = False)\n",
    "    for question in questions[v.head(5).index]:\n",
    "        print \"+ {}\".format(questions)\n",
    "    print\n",
    "    for question in questions[v.tail(5).index]:\n",
    "        print \"- {}\".format(questions)"
   ]
  },
  {
   "cell_type": "code",
   "execution_count": 125,
   "metadata": {
    "collapsed": false
   },
   "outputs": [
    {
     "name": "stdout",
     "output_type": "stream",
     "text": [
      "+ 0                           I want a car that is trendy\n",
      "1                                I am fashion conscious\n",
      "2     I do not have the time to worry about car main...\n",
      "3                    Basic transportation is all I need\n",
      "4                        Small cars are not prestigious\n",
      "                            ...                        \n",
      "57    For me a car is a symbol of freedom and indepe...\n",
      "58                   I am interested in car maintenance\n",
      "59    When buying a car I only consider a national make\n",
      "60    The government should implement policies that ...\n",
      "61    The government is right to tax large cars more...\n",
      "dtype: object\n",
      "+ 0                           I want a car that is trendy\n",
      "1                                I am fashion conscious\n",
      "2     I do not have the time to worry about car main...\n",
      "3                    Basic transportation is all I need\n",
      "4                        Small cars are not prestigious\n",
      "                            ...                        \n",
      "57    For me a car is a symbol of freedom and indepe...\n",
      "58                   I am interested in car maintenance\n",
      "59    When buying a car I only consider a national make\n",
      "60    The government should implement policies that ...\n",
      "61    The government is right to tax large cars more...\n",
      "dtype: object\n",
      "+ 0                           I want a car that is trendy\n",
      "1                                I am fashion conscious\n",
      "2     I do not have the time to worry about car main...\n",
      "3                    Basic transportation is all I need\n",
      "4                        Small cars are not prestigious\n",
      "                            ...                        \n",
      "57    For me a car is a symbol of freedom and indepe...\n",
      "58                   I am interested in car maintenance\n",
      "59    When buying a car I only consider a national make\n",
      "60    The government should implement policies that ...\n",
      "61    The government is right to tax large cars more...\n",
      "dtype: object\n",
      "+ 0                           I want a car that is trendy\n",
      "1                                I am fashion conscious\n",
      "2     I do not have the time to worry about car main...\n",
      "3                    Basic transportation is all I need\n",
      "4                        Small cars are not prestigious\n",
      "                            ...                        \n",
      "57    For me a car is a symbol of freedom and indepe...\n",
      "58                   I am interested in car maintenance\n",
      "59    When buying a car I only consider a national make\n",
      "60    The government should implement policies that ...\n",
      "61    The government is right to tax large cars more...\n",
      "dtype: object\n",
      "+ 0                           I want a car that is trendy\n",
      "1                                I am fashion conscious\n",
      "2     I do not have the time to worry about car main...\n",
      "3                    Basic transportation is all I need\n",
      "4                        Small cars are not prestigious\n",
      "                            ...                        \n",
      "57    For me a car is a symbol of freedom and indepe...\n",
      "58                   I am interested in car maintenance\n",
      "59    When buying a car I only consider a national make\n",
      "60    The government should implement policies that ...\n",
      "61    The government is right to tax large cars more...\n",
      "dtype: object\n",
      "\n",
      "- 0                           I want a car that is trendy\n",
      "1                                I am fashion conscious\n",
      "2     I do not have the time to worry about car main...\n",
      "3                    Basic transportation is all I need\n",
      "4                        Small cars are not prestigious\n",
      "                            ...                        \n",
      "57    For me a car is a symbol of freedom and indepe...\n",
      "58                   I am interested in car maintenance\n",
      "59    When buying a car I only consider a national make\n",
      "60    The government should implement policies that ...\n",
      "61    The government is right to tax large cars more...\n",
      "dtype: object\n",
      "- 0                           I want a car that is trendy\n",
      "1                                I am fashion conscious\n",
      "2     I do not have the time to worry about car main...\n",
      "3                    Basic transportation is all I need\n",
      "4                        Small cars are not prestigious\n",
      "                            ...                        \n",
      "57    For me a car is a symbol of freedom and indepe...\n",
      "58                   I am interested in car maintenance\n",
      "59    When buying a car I only consider a national make\n",
      "60    The government should implement policies that ...\n",
      "61    The government is right to tax large cars more...\n",
      "dtype: object\n",
      "- 0                           I want a car that is trendy\n",
      "1                                I am fashion conscious\n",
      "2     I do not have the time to worry about car main...\n",
      "3                    Basic transportation is all I need\n",
      "4                        Small cars are not prestigious\n",
      "                            ...                        \n",
      "57    For me a car is a symbol of freedom and indepe...\n",
      "58                   I am interested in car maintenance\n",
      "59    When buying a car I only consider a national make\n",
      "60    The government should implement policies that ...\n",
      "61    The government is right to tax large cars more...\n",
      "dtype: object\n",
      "- 0                           I want a car that is trendy\n",
      "1                                I am fashion conscious\n",
      "2     I do not have the time to worry about car main...\n",
      "3                    Basic transportation is all I need\n",
      "4                        Small cars are not prestigious\n",
      "                            ...                        \n",
      "57    For me a car is a symbol of freedom and indepe...\n",
      "58                   I am interested in car maintenance\n",
      "59    When buying a car I only consider a national make\n",
      "60    The government should implement policies that ...\n",
      "61    The government is right to tax large cars more...\n",
      "dtype: object\n",
      "- 0                           I want a car that is trendy\n",
      "1                                I am fashion conscious\n",
      "2     I do not have the time to worry about car main...\n",
      "3                    Basic transportation is all I need\n",
      "4                        Small cars are not prestigious\n",
      "                            ...                        \n",
      "57    For me a car is a symbol of freedom and indepe...\n",
      "58                   I am interested in car maintenance\n",
      "59    When buying a car I only consider a national make\n",
      "60    The government should implement policies that ...\n",
      "61    The government is right to tax large cars more...\n",
      "dtype: object\n"
     ]
    }
   ],
   "source": [
    "interpret(first_component)"
   ]
  },
  {
   "cell_type": "code",
   "execution_count": 124,
   "metadata": {
    "collapsed": false
   },
   "outputs": [
    {
     "name": "stdout",
     "output_type": "stream",
     "text": [
      "+ 0                           I want a car that is trendy\n",
      "1                                I am fashion conscious\n",
      "2     I do not have the time to worry about car main...\n",
      "3                    Basic transportation is all I need\n",
      "4                        Small cars are not prestigious\n",
      "                            ...                        \n",
      "57    For me a car is a symbol of freedom and indepe...\n",
      "58                   I am interested in car maintenance\n",
      "59    When buying a car I only consider a national make\n",
      "60    The government should implement policies that ...\n",
      "61    The government is right to tax large cars more...\n",
      "dtype: object\n",
      "+ 0                           I want a car that is trendy\n",
      "1                                I am fashion conscious\n",
      "2     I do not have the time to worry about car main...\n",
      "3                    Basic transportation is all I need\n",
      "4                        Small cars are not prestigious\n",
      "                            ...                        \n",
      "57    For me a car is a symbol of freedom and indepe...\n",
      "58                   I am interested in car maintenance\n",
      "59    When buying a car I only consider a national make\n",
      "60    The government should implement policies that ...\n",
      "61    The government is right to tax large cars more...\n",
      "dtype: object\n",
      "+ 0                           I want a car that is trendy\n",
      "1                                I am fashion conscious\n",
      "2     I do not have the time to worry about car main...\n",
      "3                    Basic transportation is all I need\n",
      "4                        Small cars are not prestigious\n",
      "                            ...                        \n",
      "57    For me a car is a symbol of freedom and indepe...\n",
      "58                   I am interested in car maintenance\n",
      "59    When buying a car I only consider a national make\n",
      "60    The government should implement policies that ...\n",
      "61    The government is right to tax large cars more...\n",
      "dtype: object\n",
      "+ 0                           I want a car that is trendy\n",
      "1                                I am fashion conscious\n",
      "2     I do not have the time to worry about car main...\n",
      "3                    Basic transportation is all I need\n",
      "4                        Small cars are not prestigious\n",
      "                            ...                        \n",
      "57    For me a car is a symbol of freedom and indepe...\n",
      "58                   I am interested in car maintenance\n",
      "59    When buying a car I only consider a national make\n",
      "60    The government should implement policies that ...\n",
      "61    The government is right to tax large cars more...\n",
      "dtype: object\n",
      "+ 0                           I want a car that is trendy\n",
      "1                                I am fashion conscious\n",
      "2     I do not have the time to worry about car main...\n",
      "3                    Basic transportation is all I need\n",
      "4                        Small cars are not prestigious\n",
      "                            ...                        \n",
      "57    For me a car is a symbol of freedom and indepe...\n",
      "58                   I am interested in car maintenance\n",
      "59    When buying a car I only consider a national make\n",
      "60    The government should implement policies that ...\n",
      "61    The government is right to tax large cars more...\n",
      "dtype: object\n",
      "\n",
      "- 0                           I want a car that is trendy\n",
      "1                                I am fashion conscious\n",
      "2     I do not have the time to worry about car main...\n",
      "3                    Basic transportation is all I need\n",
      "4                        Small cars are not prestigious\n",
      "                            ...                        \n",
      "57    For me a car is a symbol of freedom and indepe...\n",
      "58                   I am interested in car maintenance\n",
      "59    When buying a car I only consider a national make\n",
      "60    The government should implement policies that ...\n",
      "61    The government is right to tax large cars more...\n",
      "dtype: object\n",
      "- 0                           I want a car that is trendy\n",
      "1                                I am fashion conscious\n",
      "2     I do not have the time to worry about car main...\n",
      "3                    Basic transportation is all I need\n",
      "4                        Small cars are not prestigious\n",
      "                            ...                        \n",
      "57    For me a car is a symbol of freedom and indepe...\n",
      "58                   I am interested in car maintenance\n",
      "59    When buying a car I only consider a national make\n",
      "60    The government should implement policies that ...\n",
      "61    The government is right to tax large cars more...\n",
      "dtype: object\n",
      "- 0                           I want a car that is trendy\n",
      "1                                I am fashion conscious\n",
      "2     I do not have the time to worry about car main...\n",
      "3                    Basic transportation is all I need\n",
      "4                        Small cars are not prestigious\n",
      "                            ...                        \n",
      "57    For me a car is a symbol of freedom and indepe...\n",
      "58                   I am interested in car maintenance\n",
      "59    When buying a car I only consider a national make\n",
      "60    The government should implement policies that ...\n",
      "61    The government is right to tax large cars more...\n",
      "dtype: object\n",
      "- 0                           I want a car that is trendy\n",
      "1                                I am fashion conscious\n",
      "2     I do not have the time to worry about car main...\n",
      "3                    Basic transportation is all I need\n",
      "4                        Small cars are not prestigious\n",
      "                            ...                        \n",
      "57    For me a car is a symbol of freedom and indepe...\n",
      "58                   I am interested in car maintenance\n",
      "59    When buying a car I only consider a national make\n",
      "60    The government should implement policies that ...\n",
      "61    The government is right to tax large cars more...\n",
      "dtype: object\n",
      "- 0                           I want a car that is trendy\n",
      "1                                I am fashion conscious\n",
      "2     I do not have the time to worry about car main...\n",
      "3                    Basic transportation is all I need\n",
      "4                        Small cars are not prestigious\n",
      "                            ...                        \n",
      "57    For me a car is a symbol of freedom and indepe...\n",
      "58                   I am interested in car maintenance\n",
      "59    When buying a car I only consider a national make\n",
      "60    The government should implement policies that ...\n",
      "61    The government is right to tax large cars more...\n",
      "dtype: object\n"
     ]
    }
   ],
   "source": [
    "interpret(pca.components_[1])"
   ]
  },
  {
   "cell_type": "code",
   "execution_count": null,
   "metadata": {
    "collapsed": true
   },
   "outputs": [],
   "source": []
  }
 ],
 "metadata": {
  "anaconda-cloud": {},
  "kernelspec": {
   "display_name": "Python [Root]",
   "language": "python",
   "name": "Python [Root]"
  },
  "language_info": {
   "codemirror_mode": {
    "name": "ipython",
    "version": 2
   },
   "file_extension": ".py",
   "mimetype": "text/x-python",
   "name": "python",
   "nbconvert_exporter": "python",
   "pygments_lexer": "ipython2",
   "version": "2.7.12"
  }
 },
 "nbformat": 4,
 "nbformat_minor": 0
}
