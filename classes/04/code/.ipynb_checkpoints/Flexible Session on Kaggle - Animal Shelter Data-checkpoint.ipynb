{
 "cells": [
  {
   "cell_type": "code",
   "execution_count": 12,
   "metadata": {
    "collapsed": false
   },
   "outputs": [],
   "source": [
    "import os\n",
    "import math\n",
    "import pandas as pd\n",
    "\n",
    "df = pd.read_csv(os.path.join('..','datasets', 'shelter-animal-outcomes.csv.gz'))\n",
    "pd.set_option('display.max_rows', 10)\n",
    "pd.set_option('display.notebook_repr_html', True)\n",
    "\n",
    "import matplotlib.pyplot as plt\n",
    "%matplotlib inline\n",
    "plt.style.use('ggplot')"
   ]
  },
  {
   "cell_type": "code",
   "execution_count": 13,
   "metadata": {
    "collapsed": false
   },
   "outputs": [
    {
     "data": {
      "text/html": [
       "<div>\n",
       "<table border=\"1\" class=\"dataframe\">\n",
       "  <thead>\n",
       "    <tr style=\"text-align: right;\">\n",
       "      <th></th>\n",
       "      <th>AnimalID</th>\n",
       "      <th>Name</th>\n",
       "      <th>DateTime</th>\n",
       "      <th>OutcomeType</th>\n",
       "      <th>OutcomeSubtype</th>\n",
       "      <th>AnimalType</th>\n",
       "      <th>SexuponOutcome</th>\n",
       "      <th>AgeuponOutcome</th>\n",
       "      <th>Breed</th>\n",
       "      <th>Color</th>\n",
       "    </tr>\n",
       "  </thead>\n",
       "  <tbody>\n",
       "    <tr>\n",
       "      <th>0</th>\n",
       "      <td>A671945</td>\n",
       "      <td>Hambone</td>\n",
       "      <td>2014-02-12 18:22:00</td>\n",
       "      <td>Return_to_owner</td>\n",
       "      <td>NaN</td>\n",
       "      <td>Dog</td>\n",
       "      <td>Neutered Male</td>\n",
       "      <td>1 year</td>\n",
       "      <td>Shetland Sheepdog Mix</td>\n",
       "      <td>Brown/White</td>\n",
       "    </tr>\n",
       "    <tr>\n",
       "      <th>1</th>\n",
       "      <td>A656520</td>\n",
       "      <td>Emily</td>\n",
       "      <td>2013-10-13 12:44:00</td>\n",
       "      <td>Euthanasia</td>\n",
       "      <td>Suffering</td>\n",
       "      <td>Cat</td>\n",
       "      <td>Spayed Female</td>\n",
       "      <td>1 year</td>\n",
       "      <td>Domestic Shorthair Mix</td>\n",
       "      <td>Cream Tabby</td>\n",
       "    </tr>\n",
       "    <tr>\n",
       "      <th>2</th>\n",
       "      <td>A686464</td>\n",
       "      <td>Pearce</td>\n",
       "      <td>2015-01-31 12:28:00</td>\n",
       "      <td>Adoption</td>\n",
       "      <td>Foster</td>\n",
       "      <td>Dog</td>\n",
       "      <td>Neutered Male</td>\n",
       "      <td>2 years</td>\n",
       "      <td>Pit Bull Mix</td>\n",
       "      <td>Blue/White</td>\n",
       "    </tr>\n",
       "    <tr>\n",
       "      <th>3</th>\n",
       "      <td>A683430</td>\n",
       "      <td>NaN</td>\n",
       "      <td>2014-07-11 19:09:00</td>\n",
       "      <td>Transfer</td>\n",
       "      <td>Partner</td>\n",
       "      <td>Cat</td>\n",
       "      <td>Intact Male</td>\n",
       "      <td>3 weeks</td>\n",
       "      <td>Domestic Shorthair Mix</td>\n",
       "      <td>Blue Cream</td>\n",
       "    </tr>\n",
       "    <tr>\n",
       "      <th>4</th>\n",
       "      <td>A667013</td>\n",
       "      <td>NaN</td>\n",
       "      <td>2013-11-15 12:52:00</td>\n",
       "      <td>Transfer</td>\n",
       "      <td>Partner</td>\n",
       "      <td>Dog</td>\n",
       "      <td>Neutered Male</td>\n",
       "      <td>2 years</td>\n",
       "      <td>Lhasa Apso/Miniature Poodle</td>\n",
       "      <td>Tan</td>\n",
       "    </tr>\n",
       "    <tr>\n",
       "      <th>...</th>\n",
       "      <td>...</td>\n",
       "      <td>...</td>\n",
       "      <td>...</td>\n",
       "      <td>...</td>\n",
       "      <td>...</td>\n",
       "      <td>...</td>\n",
       "      <td>...</td>\n",
       "      <td>...</td>\n",
       "      <td>...</td>\n",
       "      <td>...</td>\n",
       "    </tr>\n",
       "    <tr>\n",
       "      <th>26724</th>\n",
       "      <td>A702446</td>\n",
       "      <td>NaN</td>\n",
       "      <td>2015-05-14 11:56:00</td>\n",
       "      <td>Transfer</td>\n",
       "      <td>Partner</td>\n",
       "      <td>Cat</td>\n",
       "      <td>Intact Male</td>\n",
       "      <td>1 month</td>\n",
       "      <td>Domestic Shorthair Mix</td>\n",
       "      <td>Brown Tabby/White</td>\n",
       "    </tr>\n",
       "    <tr>\n",
       "      <th>26725</th>\n",
       "      <td>A718934</td>\n",
       "      <td>NaN</td>\n",
       "      <td>2016-01-20 18:59:00</td>\n",
       "      <td>Transfer</td>\n",
       "      <td>SCRP</td>\n",
       "      <td>Cat</td>\n",
       "      <td>Spayed Female</td>\n",
       "      <td>3 months</td>\n",
       "      <td>Domestic Shorthair Mix</td>\n",
       "      <td>Brown Tabby</td>\n",
       "    </tr>\n",
       "    <tr>\n",
       "      <th>26726</th>\n",
       "      <td>A698128</td>\n",
       "      <td>Zeus</td>\n",
       "      <td>2015-03-09 13:33:00</td>\n",
       "      <td>Adoption</td>\n",
       "      <td>NaN</td>\n",
       "      <td>Dog</td>\n",
       "      <td>Neutered Male</td>\n",
       "      <td>4 years</td>\n",
       "      <td>Old English Bulldog Mix</td>\n",
       "      <td>White/Tan</td>\n",
       "    </tr>\n",
       "    <tr>\n",
       "      <th>26727</th>\n",
       "      <td>A677478</td>\n",
       "      <td>NaN</td>\n",
       "      <td>2014-04-27 12:22:00</td>\n",
       "      <td>Transfer</td>\n",
       "      <td>Partner</td>\n",
       "      <td>Cat</td>\n",
       "      <td>Intact Male</td>\n",
       "      <td>4 weeks</td>\n",
       "      <td>Domestic Shorthair Mix</td>\n",
       "      <td>Black</td>\n",
       "    </tr>\n",
       "    <tr>\n",
       "      <th>26728</th>\n",
       "      <td>A706629</td>\n",
       "      <td>NaN</td>\n",
       "      <td>2015-07-02 09:00:00</td>\n",
       "      <td>Transfer</td>\n",
       "      <td>SCRP</td>\n",
       "      <td>Cat</td>\n",
       "      <td>Intact Male</td>\n",
       "      <td>1 year</td>\n",
       "      <td>Domestic Shorthair Mix</td>\n",
       "      <td>Brown Tabby/White</td>\n",
       "    </tr>\n",
       "  </tbody>\n",
       "</table>\n",
       "<p>26729 rows × 10 columns</p>\n",
       "</div>"
      ],
      "text/plain": [
       "      AnimalID     Name             DateTime      OutcomeType OutcomeSubtype  \\\n",
       "0      A671945  Hambone  2014-02-12 18:22:00  Return_to_owner            NaN   \n",
       "1      A656520    Emily  2013-10-13 12:44:00       Euthanasia      Suffering   \n",
       "2      A686464   Pearce  2015-01-31 12:28:00         Adoption         Foster   \n",
       "3      A683430      NaN  2014-07-11 19:09:00         Transfer        Partner   \n",
       "4      A667013      NaN  2013-11-15 12:52:00         Transfer        Partner   \n",
       "...        ...      ...                  ...              ...            ...   \n",
       "26724  A702446      NaN  2015-05-14 11:56:00         Transfer        Partner   \n",
       "26725  A718934      NaN  2016-01-20 18:59:00         Transfer           SCRP   \n",
       "26726  A698128     Zeus  2015-03-09 13:33:00         Adoption            NaN   \n",
       "26727  A677478      NaN  2014-04-27 12:22:00         Transfer        Partner   \n",
       "26728  A706629      NaN  2015-07-02 09:00:00         Transfer           SCRP   \n",
       "\n",
       "      AnimalType SexuponOutcome AgeuponOutcome                        Breed  \\\n",
       "0            Dog  Neutered Male         1 year        Shetland Sheepdog Mix   \n",
       "1            Cat  Spayed Female         1 year       Domestic Shorthair Mix   \n",
       "2            Dog  Neutered Male        2 years                 Pit Bull Mix   \n",
       "3            Cat    Intact Male        3 weeks       Domestic Shorthair Mix   \n",
       "4            Dog  Neutered Male        2 years  Lhasa Apso/Miniature Poodle   \n",
       "...          ...            ...            ...                          ...   \n",
       "26724        Cat    Intact Male        1 month       Domestic Shorthair Mix   \n",
       "26725        Cat  Spayed Female       3 months       Domestic Shorthair Mix   \n",
       "26726        Dog  Neutered Male        4 years      Old English Bulldog Mix   \n",
       "26727        Cat    Intact Male        4 weeks       Domestic Shorthair Mix   \n",
       "26728        Cat    Intact Male         1 year       Domestic Shorthair Mix   \n",
       "\n",
       "                   Color  \n",
       "0            Brown/White  \n",
       "1            Cream Tabby  \n",
       "2             Blue/White  \n",
       "3             Blue Cream  \n",
       "4                    Tan  \n",
       "...                  ...  \n",
       "26724  Brown Tabby/White  \n",
       "26725        Brown Tabby  \n",
       "26726          White/Tan  \n",
       "26727              Black  \n",
       "26728  Brown Tabby/White  \n",
       "\n",
       "[26729 rows x 10 columns]"
      ]
     },
     "execution_count": 13,
     "metadata": {},
     "output_type": "execute_result"
    }
   ],
   "source": [
    "df"
   ]
  },
  {
   "cell_type": "code",
   "execution_count": 14,
   "metadata": {
    "collapsed": false
   },
   "outputs": [
    {
     "data": {
      "text/html": [
       "<div>\n",
       "<table border=\"1\" class=\"dataframe\">\n",
       "  <thead>\n",
       "    <tr style=\"text-align: right;\">\n",
       "      <th></th>\n",
       "      <th>AnimalID</th>\n",
       "      <th>Name</th>\n",
       "      <th>DateTime</th>\n",
       "      <th>OutcomeType</th>\n",
       "      <th>OutcomeSubtype</th>\n",
       "      <th>AnimalType</th>\n",
       "      <th>SexuponOutcome</th>\n",
       "      <th>AgeuponOutcome</th>\n",
       "      <th>Breed</th>\n",
       "      <th>Color</th>\n",
       "    </tr>\n",
       "  </thead>\n",
       "  <tbody>\n",
       "    <tr>\n",
       "      <th>count</th>\n",
       "      <td>26729</td>\n",
       "      <td>19038</td>\n",
       "      <td>26729</td>\n",
       "      <td>26729</td>\n",
       "      <td>13117</td>\n",
       "      <td>26729</td>\n",
       "      <td>26728</td>\n",
       "      <td>26711</td>\n",
       "      <td>26729</td>\n",
       "      <td>26729</td>\n",
       "    </tr>\n",
       "    <tr>\n",
       "      <th>unique</th>\n",
       "      <td>26729</td>\n",
       "      <td>6374</td>\n",
       "      <td>22918</td>\n",
       "      <td>5</td>\n",
       "      <td>16</td>\n",
       "      <td>2</td>\n",
       "      <td>5</td>\n",
       "      <td>44</td>\n",
       "      <td>1380</td>\n",
       "      <td>366</td>\n",
       "    </tr>\n",
       "    <tr>\n",
       "      <th>top</th>\n",
       "      <td>A705677</td>\n",
       "      <td>Max</td>\n",
       "      <td>2015-08-11 00:00:00</td>\n",
       "      <td>Adoption</td>\n",
       "      <td>Partner</td>\n",
       "      <td>Dog</td>\n",
       "      <td>Neutered Male</td>\n",
       "      <td>1 year</td>\n",
       "      <td>Domestic Shorthair Mix</td>\n",
       "      <td>Black/White</td>\n",
       "    </tr>\n",
       "    <tr>\n",
       "      <th>freq</th>\n",
       "      <td>1</td>\n",
       "      <td>136</td>\n",
       "      <td>19</td>\n",
       "      <td>10769</td>\n",
       "      <td>7816</td>\n",
       "      <td>15595</td>\n",
       "      <td>9779</td>\n",
       "      <td>3969</td>\n",
       "      <td>8810</td>\n",
       "      <td>2824</td>\n",
       "    </tr>\n",
       "  </tbody>\n",
       "</table>\n",
       "</div>"
      ],
      "text/plain": [
       "       AnimalID   Name             DateTime OutcomeType OutcomeSubtype  \\\n",
       "count     26729  19038                26729       26729          13117   \n",
       "unique    26729   6374                22918           5             16   \n",
       "top     A705677    Max  2015-08-11 00:00:00    Adoption        Partner   \n",
       "freq          1    136                   19       10769           7816   \n",
       "\n",
       "       AnimalType SexuponOutcome AgeuponOutcome                   Breed  \\\n",
       "count       26729          26728          26711                   26729   \n",
       "unique          2              5             44                    1380   \n",
       "top           Dog  Neutered Male         1 year  Domestic Shorthair Mix   \n",
       "freq        15595           9779           3969                    8810   \n",
       "\n",
       "              Color  \n",
       "count         26729  \n",
       "unique          366  \n",
       "top     Black/White  \n",
       "freq           2824  "
      ]
     },
     "execution_count": 14,
     "metadata": {},
     "output_type": "execute_result"
    }
   ],
   "source": [
    "df.describe()"
   ]
  },
  {
   "cell_type": "code",
   "execution_count": 30,
   "metadata": {
    "collapsed": false
   },
   "outputs": [
    {
     "data": {
      "text/plain": [
       "Adoption           10769\n",
       "Transfer            9422\n",
       "Return_to_owner     4786\n",
       "Euthanasia          1555\n",
       "Died                 197\n",
       "Name: OutcomeType, dtype: int64"
      ]
     },
     "execution_count": 30,
     "metadata": {},
     "output_type": "execute_result"
    }
   ],
   "source": [
    "df.OutcomeType.value_counts()"
   ]
  },
  {
   "cell_type": "code",
   "execution_count": 31,
   "metadata": {
    "collapsed": false
   },
   "outputs": [
    {
     "data": {
      "text/html": [
       "<div>\n",
       "<table border=\"1\" class=\"dataframe\">\n",
       "  <thead>\n",
       "    <tr style=\"text-align: right;\">\n",
       "      <th>OutcomeSubtype</th>\n",
       "      <th>Aggressive</th>\n",
       "      <th>At Vet</th>\n",
       "      <th>Barn</th>\n",
       "      <th>Behavior</th>\n",
       "      <th>Court/Investigation</th>\n",
       "      <th>Enroute</th>\n",
       "      <th>Foster</th>\n",
       "      <th>In Foster</th>\n",
       "      <th>In Kennel</th>\n",
       "      <th>In Surgery</th>\n",
       "      <th>Medical</th>\n",
       "      <th>Offsite</th>\n",
       "      <th>Partner</th>\n",
       "      <th>Rabies Risk</th>\n",
       "      <th>SCRP</th>\n",
       "      <th>Suffering</th>\n",
       "    </tr>\n",
       "    <tr>\n",
       "      <th>OutcomeType</th>\n",
       "      <th></th>\n",
       "      <th></th>\n",
       "      <th></th>\n",
       "      <th></th>\n",
       "      <th></th>\n",
       "      <th></th>\n",
       "      <th></th>\n",
       "      <th></th>\n",
       "      <th></th>\n",
       "      <th></th>\n",
       "      <th></th>\n",
       "      <th></th>\n",
       "      <th></th>\n",
       "      <th></th>\n",
       "      <th></th>\n",
       "      <th></th>\n",
       "    </tr>\n",
       "  </thead>\n",
       "  <tbody>\n",
       "    <tr>\n",
       "      <th>Adoption</th>\n",
       "      <td>0</td>\n",
       "      <td>0</td>\n",
       "      <td>1</td>\n",
       "      <td>0</td>\n",
       "      <td>0</td>\n",
       "      <td>0</td>\n",
       "      <td>1800</td>\n",
       "      <td>0</td>\n",
       "      <td>0</td>\n",
       "      <td>0</td>\n",
       "      <td>0</td>\n",
       "      <td>165</td>\n",
       "      <td>0</td>\n",
       "      <td>0</td>\n",
       "      <td>0</td>\n",
       "      <td>0</td>\n",
       "    </tr>\n",
       "    <tr>\n",
       "      <th>Died</th>\n",
       "      <td>0</td>\n",
       "      <td>4</td>\n",
       "      <td>0</td>\n",
       "      <td>0</td>\n",
       "      <td>0</td>\n",
       "      <td>8</td>\n",
       "      <td>0</td>\n",
       "      <td>52</td>\n",
       "      <td>114</td>\n",
       "      <td>3</td>\n",
       "      <td>0</td>\n",
       "      <td>0</td>\n",
       "      <td>0</td>\n",
       "      <td>0</td>\n",
       "      <td>0</td>\n",
       "      <td>0</td>\n",
       "    </tr>\n",
       "    <tr>\n",
       "      <th>Euthanasia</th>\n",
       "      <td>320</td>\n",
       "      <td>0</td>\n",
       "      <td>0</td>\n",
       "      <td>86</td>\n",
       "      <td>6</td>\n",
       "      <td>0</td>\n",
       "      <td>0</td>\n",
       "      <td>0</td>\n",
       "      <td>0</td>\n",
       "      <td>0</td>\n",
       "      <td>66</td>\n",
       "      <td>0</td>\n",
       "      <td>0</td>\n",
       "      <td>74</td>\n",
       "      <td>0</td>\n",
       "      <td>1002</td>\n",
       "    </tr>\n",
       "    <tr>\n",
       "      <th>Transfer</th>\n",
       "      <td>0</td>\n",
       "      <td>0</td>\n",
       "      <td>1</td>\n",
       "      <td>0</td>\n",
       "      <td>0</td>\n",
       "      <td>0</td>\n",
       "      <td>0</td>\n",
       "      <td>0</td>\n",
       "      <td>0</td>\n",
       "      <td>0</td>\n",
       "      <td>0</td>\n",
       "      <td>0</td>\n",
       "      <td>7816</td>\n",
       "      <td>0</td>\n",
       "      <td>1599</td>\n",
       "      <td>0</td>\n",
       "    </tr>\n",
       "  </tbody>\n",
       "</table>\n",
       "</div>"
      ],
      "text/plain": [
       "OutcomeSubtype  Aggressive  At Vet  Barn  Behavior  Court/Investigation  \\\n",
       "OutcomeType                                                               \n",
       "Adoption                 0       0     1         0                    0   \n",
       "Died                     0       4     0         0                    0   \n",
       "Euthanasia             320       0     0        86                    6   \n",
       "Transfer                 0       0     1         0                    0   \n",
       "\n",
       "OutcomeSubtype  Enroute  Foster  In Foster  In Kennel  In Surgery  Medical  \\\n",
       "OutcomeType                                                                  \n",
       "Adoption              0    1800          0          0           0        0   \n",
       "Died                  8       0         52        114           3        0   \n",
       "Euthanasia            0       0          0          0           0       66   \n",
       "Transfer              0       0          0          0           0        0   \n",
       "\n",
       "OutcomeSubtype  Offsite  Partner  Rabies Risk  SCRP  Suffering  \n",
       "OutcomeType                                                     \n",
       "Adoption            165        0            0     0          0  \n",
       "Died                  0        0            0     0          0  \n",
       "Euthanasia            0        0           74     0       1002  \n",
       "Transfer              0     7816            0  1599          0  "
      ]
     },
     "execution_count": 31,
     "metadata": {},
     "output_type": "execute_result"
    }
   ],
   "source": [
    "pd.crosstab(df.OutcomeType, df.OutcomeSubtype)"
   ]
  },
  {
   "cell_type": "code",
   "execution_count": 32,
   "metadata": {
    "collapsed": false
   },
   "outputs": [
    {
     "data": {
      "text/plain": [
       "array(['1 year', '2 years', '3 weeks', '1 month', '5 months', '4 years',\n",
       "       '3 months', '2 weeks', '2 months', '10 months', '6 months',\n",
       "       '5 years', '7 years', '3 years', '4 months', '12 years', '9 years',\n",
       "       '6 years', '1 weeks', '11 years', '4 weeks', '7 months', '8 years',\n",
       "       '11 months', '4 days', '9 months', '8 months', '15 years',\n",
       "       '10 years', '1 week', '0 years', '14 years', '3 days', '6 days',\n",
       "       '5 days', '5 weeks', '2 days', '16 years', '1 day', '13 years', nan,\n",
       "       '17 years', '18 years', '19 years', '20 years'], dtype=object)"
      ]
     },
     "execution_count": 32,
     "metadata": {},
     "output_type": "execute_result"
    }
   ],
   "source": [
    "df.AgeuponOutcome.unique()"
   ]
  },
  {
   "cell_type": "code",
   "execution_count": 33,
   "metadata": {
    "collapsed": false
   },
   "outputs": [
    {
     "data": {
      "text/plain": [
       "Dog    15595\n",
       "Cat    11134\n",
       "Name: AnimalType, dtype: int64"
      ]
     },
     "execution_count": 33,
     "metadata": {},
     "output_type": "execute_result"
    }
   ],
   "source": [
    "df.AnimalType.value_counts()"
   ]
  },
  {
   "cell_type": "code",
   "execution_count": 34,
   "metadata": {
    "collapsed": false
   },
   "outputs": [
    {
     "data": {
      "text/plain": [
       "Max            136\n",
       "Bella          135\n",
       "Charlie        107\n",
       "Daisy          106\n",
       "Lucy            94\n",
       "              ... \n",
       "Sally Jessy      1\n",
       "Nelda            1\n",
       "Hobie Cat        1\n",
       "Madi             1\n",
       "Sumi             1\n",
       "Name: Name, dtype: int64"
      ]
     },
     "execution_count": 34,
     "metadata": {},
     "output_type": "execute_result"
    }
   ],
   "source": [
    "df.Name.value_counts()"
   ]
  },
  {
   "cell_type": "code",
   "execution_count": 35,
   "metadata": {
    "collapsed": false
   },
   "outputs": [
    {
     "data": {
      "text/plain": [
       "0        2014-02-12 18:22:00\n",
       "1        2013-10-13 12:44:00\n",
       "2        2015-01-31 12:28:00\n",
       "3        2014-07-11 19:09:00\n",
       "4        2013-11-15 12:52:00\n",
       "                ...         \n",
       "26724    2015-05-14 11:56:00\n",
       "26725    2016-01-20 18:59:00\n",
       "26726    2015-03-09 13:33:00\n",
       "26727    2014-04-27 12:22:00\n",
       "26728    2015-07-02 09:00:00\n",
       "Name: DateTime, dtype: object"
      ]
     },
     "execution_count": 35,
     "metadata": {},
     "output_type": "execute_result"
    }
   ],
   "source": [
    "df.DateTime"
   ]
  },
  {
   "cell_type": "code",
   "execution_count": 36,
   "metadata": {
    "collapsed": false
   },
   "outputs": [
    {
     "data": {
      "text/plain": [
       "0    2015-08-11 00:00:00\n",
       "dtype: object"
      ]
     },
     "execution_count": 36,
     "metadata": {},
     "output_type": "execute_result"
    }
   ],
   "source": [
    "df.DateTime.mode()"
   ]
  },
  {
   "cell_type": "code",
   "execution_count": 44,
   "metadata": {
    "collapsed": false
   },
   "outputs": [
    {
     "data": {
      "text/plain": [
       "26728    2015-07-02 09:00:00\n",
       "Name: DateTime, dtype: object"
      ]
     },
     "execution_count": 44,
     "metadata": {},
     "output_type": "execute_result"
    }
   ],
   "source": [
    "df.DateTime[-1:]"
   ]
  },
  {
   "cell_type": "code",
   "execution_count": 40,
   "metadata": {
    "collapsed": true
   },
   "outputs": [],
   "source": [
    "a = pd.to_datetime('2015-07-02 09:00:00')"
   ]
  },
  {
   "cell_type": "code",
   "execution_count": 41,
   "metadata": {
    "collapsed": false
   },
   "outputs": [
    {
     "data": {
      "text/plain": [
       "2015"
      ]
     },
     "execution_count": 41,
     "metadata": {},
     "output_type": "execute_result"
    }
   ],
   "source": [
    "a.year"
   ]
  },
  {
   "cell_type": "code",
   "execution_count": 46,
   "metadata": {
    "collapsed": false
   },
   "outputs": [],
   "source": [
    "df.DateTime=pd.to_datetime(df.DateTime)"
   ]
  },
  {
   "cell_type": "code",
   "execution_count": 47,
   "metadata": {
    "collapsed": false
   },
   "outputs": [
    {
     "data": {
      "text/plain": [
       "0       2014-02-12 18:22:00\n",
       "1       2013-10-13 12:44:00\n",
       "2       2015-01-31 12:28:00\n",
       "3       2014-07-11 19:09:00\n",
       "4       2013-11-15 12:52:00\n",
       "                ...        \n",
       "26724   2015-05-14 11:56:00\n",
       "26725   2016-01-20 18:59:00\n",
       "26726   2015-03-09 13:33:00\n",
       "26727   2014-04-27 12:22:00\n",
       "26728   2015-07-02 09:00:00\n",
       "Name: DateTime, dtype: datetime64[ns]"
      ]
     },
     "execution_count": 47,
     "metadata": {},
     "output_type": "execute_result"
    }
   ],
   "source": [
    "df.DateTime"
   ]
  },
  {
   "cell_type": "code",
   "execution_count": 48,
   "metadata": {
    "collapsed": false
   },
   "outputs": [
    {
     "data": {
      "text/plain": [
       "array(['Return_to_owner', 'Euthanasia', 'Adoption', 'Transfer', 'Died'], dtype=object)"
      ]
     },
     "execution_count": 48,
     "metadata": {},
     "output_type": "execute_result"
    }
   ],
   "source": [
    "df.OutcomeType.unique()"
   ]
  },
  {
   "cell_type": "code",
   "execution_count": 50,
   "metadata": {
    "collapsed": false
   },
   "outputs": [
    {
     "data": {
      "text/plain": [
       "Adoption           10769\n",
       "Transfer            9422\n",
       "Return_to_owner     4786\n",
       "Euthanasia          1555\n",
       "Died                 197\n",
       "Name: OutcomeType, dtype: int64"
      ]
     },
     "execution_count": 50,
     "metadata": {},
     "output_type": "execute_result"
    }
   ],
   "source": [
    "df.OutcomeType.value_counts()"
   ]
  },
  {
   "cell_type": "code",
   "execution_count": 51,
   "metadata": {
    "collapsed": false
   },
   "outputs": [
    {
     "data": {
      "text/plain": [
       "array([nan, 'Suffering', 'Foster', 'Partner', 'Offsite', 'SCRP',\n",
       "       'Aggressive', 'Behavior', 'Rabies Risk', 'Medical', 'In Kennel',\n",
       "       'In Foster', 'Barn', 'Court/Investigation', 'Enroute', 'At Vet',\n",
       "       'In Surgery'], dtype=object)"
      ]
     },
     "execution_count": 51,
     "metadata": {},
     "output_type": "execute_result"
    }
   ],
   "source": [
    "df.OutcomeSubtype.unique()"
   ]
  },
  {
   "cell_type": "code",
   "execution_count": 52,
   "metadata": {
    "collapsed": false
   },
   "outputs": [
    {
     "data": {
      "text/html": [
       "<div>\n",
       "<table border=\"1\" class=\"dataframe\">\n",
       "  <thead>\n",
       "    <tr style=\"text-align: right;\">\n",
       "      <th>OutcomeType</th>\n",
       "      <th>Adoption</th>\n",
       "      <th>Died</th>\n",
       "      <th>Euthanasia</th>\n",
       "      <th>Transfer</th>\n",
       "    </tr>\n",
       "    <tr>\n",
       "      <th>OutcomeSubtype</th>\n",
       "      <th></th>\n",
       "      <th></th>\n",
       "      <th></th>\n",
       "      <th></th>\n",
       "    </tr>\n",
       "  </thead>\n",
       "  <tbody>\n",
       "    <tr>\n",
       "      <th>Aggressive</th>\n",
       "      <td>0</td>\n",
       "      <td>0</td>\n",
       "      <td>320</td>\n",
       "      <td>0</td>\n",
       "    </tr>\n",
       "    <tr>\n",
       "      <th>At Vet</th>\n",
       "      <td>0</td>\n",
       "      <td>4</td>\n",
       "      <td>0</td>\n",
       "      <td>0</td>\n",
       "    </tr>\n",
       "    <tr>\n",
       "      <th>Barn</th>\n",
       "      <td>1</td>\n",
       "      <td>0</td>\n",
       "      <td>0</td>\n",
       "      <td>1</td>\n",
       "    </tr>\n",
       "    <tr>\n",
       "      <th>Behavior</th>\n",
       "      <td>0</td>\n",
       "      <td>0</td>\n",
       "      <td>86</td>\n",
       "      <td>0</td>\n",
       "    </tr>\n",
       "    <tr>\n",
       "      <th>Court/Investigation</th>\n",
       "      <td>0</td>\n",
       "      <td>0</td>\n",
       "      <td>6</td>\n",
       "      <td>0</td>\n",
       "    </tr>\n",
       "    <tr>\n",
       "      <th>...</th>\n",
       "      <td>...</td>\n",
       "      <td>...</td>\n",
       "      <td>...</td>\n",
       "      <td>...</td>\n",
       "    </tr>\n",
       "    <tr>\n",
       "      <th>Offsite</th>\n",
       "      <td>165</td>\n",
       "      <td>0</td>\n",
       "      <td>0</td>\n",
       "      <td>0</td>\n",
       "    </tr>\n",
       "    <tr>\n",
       "      <th>Partner</th>\n",
       "      <td>0</td>\n",
       "      <td>0</td>\n",
       "      <td>0</td>\n",
       "      <td>7816</td>\n",
       "    </tr>\n",
       "    <tr>\n",
       "      <th>Rabies Risk</th>\n",
       "      <td>0</td>\n",
       "      <td>0</td>\n",
       "      <td>74</td>\n",
       "      <td>0</td>\n",
       "    </tr>\n",
       "    <tr>\n",
       "      <th>SCRP</th>\n",
       "      <td>0</td>\n",
       "      <td>0</td>\n",
       "      <td>0</td>\n",
       "      <td>1599</td>\n",
       "    </tr>\n",
       "    <tr>\n",
       "      <th>Suffering</th>\n",
       "      <td>0</td>\n",
       "      <td>0</td>\n",
       "      <td>1002</td>\n",
       "      <td>0</td>\n",
       "    </tr>\n",
       "  </tbody>\n",
       "</table>\n",
       "<p>16 rows × 4 columns</p>\n",
       "</div>"
      ],
      "text/plain": [
       "OutcomeType          Adoption  Died  Euthanasia  Transfer\n",
       "OutcomeSubtype                                           \n",
       "Aggressive                  0     0         320         0\n",
       "At Vet                      0     4           0         0\n",
       "Barn                        1     0           0         1\n",
       "Behavior                    0     0          86         0\n",
       "Court/Investigation         0     0           6         0\n",
       "...                       ...   ...         ...       ...\n",
       "Offsite                   165     0           0         0\n",
       "Partner                     0     0           0      7816\n",
       "Rabies Risk                 0     0          74         0\n",
       "SCRP                        0     0           0      1599\n",
       "Suffering                   0     0        1002         0\n",
       "\n",
       "[16 rows x 4 columns]"
      ]
     },
     "execution_count": 52,
     "metadata": {},
     "output_type": "execute_result"
    }
   ],
   "source": [
    "pd.crosstab(df.OutcomeSubtype, df.OutcomeType)"
   ]
  },
  {
   "cell_type": "code",
   "execution_count": 53,
   "metadata": {
    "collapsed": false
   },
   "outputs": [
    {
     "data": {
      "text/plain": [
       "Index([u'AnimalID', u'Name', u'DateTime', u'OutcomeType', u'OutcomeSubtype',\n",
       "       u'AnimalType', u'SexuponOutcome', u'AgeuponOutcome', u'Breed',\n",
       "       u'Color'],\n",
       "      dtype='object')"
      ]
     },
     "execution_count": 53,
     "metadata": {},
     "output_type": "execute_result"
    }
   ],
   "source": [
    "df.columns"
   ]
  },
  {
   "cell_type": "code",
   "execution_count": 64,
   "metadata": {
    "collapsed": false
   },
   "outputs": [],
   "source": [
    "df1 = df [df.AnimalType == 'Dog']"
   ]
  },
  {
   "cell_type": "code",
   "execution_count": 69,
   "metadata": {
    "collapsed": false
   },
   "outputs": [],
   "source": [
    "df2 = df1[(df1.SexuponOutcome == 'Intact Male') | (df1.SexuponOutcome == 'Neutered Male')]"
   ]
  },
  {
   "cell_type": "code",
   "execution_count": 70,
   "metadata": {
    "collapsed": false
   },
   "outputs": [
    {
     "data": {
      "text/plain": [
       "0    Max\n",
       "dtype: object"
      ]
     },
     "execution_count": 70,
     "metadata": {},
     "output_type": "execute_result"
    }
   ],
   "source": [
    "df2.Name.mode()"
   ]
  },
  {
   "cell_type": "code",
   "execution_count": 72,
   "metadata": {
    "collapsed": false
   },
   "outputs": [
    {
     "data": {
      "text/plain": [
       "Max        112\n",
       "Buddy       78\n",
       "Rocky       76\n",
       "Charlie     75\n",
       "Chico       52\n",
       "          ... \n",
       "Prada        1\n",
       "Eubie        1\n",
       "Yoakum       1\n",
       "Frisbee      1\n",
       "Leeland      1\n",
       "Name: Name, dtype: int64"
      ]
     },
     "execution_count": 72,
     "metadata": {},
     "output_type": "execute_result"
    }
   ],
   "source": [
    "df2.Name.value_counts()"
   ]
  },
  {
   "cell_type": "code",
   "execution_count": 78,
   "metadata": {
    "collapsed": false
   },
   "outputs": [],
   "source": [
    "df_female_cat = df[(df.AnimalType == 'Cat') & ((df.SexuponOutcome == 'Spayed Female') | (df.SexuponOutcome == 'Intact Female'))]"
   ]
  },
  {
   "cell_type": "code",
   "execution_count": 84,
   "metadata": {
    "collapsed": false
   },
   "outputs": [
    {
     "data": {
      "text/plain": [
       "0    Bella\n",
       "dtype: object"
      ]
     },
     "execution_count": 84,
     "metadata": {},
     "output_type": "execute_result"
    }
   ],
   "source": [
    "df_female_cat.Name.mode()"
   ]
  },
  {
   "cell_type": "code",
   "execution_count": 104,
   "metadata": {
    "collapsed": false
   },
   "outputs": [],
   "source": [
    "df['Sex'] = df.SexuponOutcome.map({'Neutered Male': 'Male', 'Intact Male': 'Male', 'Spayed Female': 'Female', 'Intact Female': 'Female', 'Unknown': 'Unknown'})"
   ]
  },
  {
   "cell_type": "code",
   "execution_count": 105,
   "metadata": {
    "collapsed": false
   },
   "outputs": [
    {
     "data": {
      "text/html": [
       "<div>\n",
       "<table border=\"1\" class=\"dataframe\">\n",
       "  <thead>\n",
       "    <tr style=\"text-align: right;\">\n",
       "      <th>Sex</th>\n",
       "      <th>Female</th>\n",
       "      <th>Male</th>\n",
       "      <th>Unknown</th>\n",
       "    </tr>\n",
       "    <tr>\n",
       "      <th>SexuponOutcome</th>\n",
       "      <th></th>\n",
       "      <th></th>\n",
       "      <th></th>\n",
       "    </tr>\n",
       "  </thead>\n",
       "  <tbody>\n",
       "    <tr>\n",
       "      <th>Intact Female</th>\n",
       "      <td>3511</td>\n",
       "      <td>0</td>\n",
       "      <td>0</td>\n",
       "    </tr>\n",
       "    <tr>\n",
       "      <th>Intact Male</th>\n",
       "      <td>0</td>\n",
       "      <td>3525</td>\n",
       "      <td>0</td>\n",
       "    </tr>\n",
       "    <tr>\n",
       "      <th>Neutered Male</th>\n",
       "      <td>0</td>\n",
       "      <td>9779</td>\n",
       "      <td>0</td>\n",
       "    </tr>\n",
       "    <tr>\n",
       "      <th>Spayed Female</th>\n",
       "      <td>8820</td>\n",
       "      <td>0</td>\n",
       "      <td>0</td>\n",
       "    </tr>\n",
       "    <tr>\n",
       "      <th>Unknown</th>\n",
       "      <td>0</td>\n",
       "      <td>0</td>\n",
       "      <td>1093</td>\n",
       "    </tr>\n",
       "  </tbody>\n",
       "</table>\n",
       "</div>"
      ],
      "text/plain": [
       "Sex             Female  Male  Unknown\n",
       "SexuponOutcome                       \n",
       "Intact Female     3511     0        0\n",
       "Intact Male          0  3525        0\n",
       "Neutered Male        0  9779        0\n",
       "Spayed Female     8820     0        0\n",
       "Unknown              0     0     1093"
      ]
     },
     "execution_count": 105,
     "metadata": {},
     "output_type": "execute_result"
    }
   ],
   "source": [
    "pd.crosstab(df.SexuponOutcome, df.Sex)"
   ]
  },
  {
   "cell_type": "code",
   "execution_count": 106,
   "metadata": {
    "collapsed": false
   },
   "outputs": [],
   "source": [
    "df['Sterilized'] = df.SexuponOutcome.map({'Neutered Male': False, 'Intact Male': True, 'Spayed Female': False, 'Intact Female': True, 'Unknown': 'Unknown','nan':'Unknown'})"
   ]
  },
  {
   "cell_type": "code",
   "execution_count": 107,
   "metadata": {
    "collapsed": false
   },
   "outputs": [
    {
     "data": {
      "text/html": [
       "<div>\n",
       "<table border=\"1\" class=\"dataframe\">\n",
       "  <thead>\n",
       "    <tr style=\"text-align: right;\">\n",
       "      <th>Sterilized</th>\n",
       "      <th>False</th>\n",
       "      <th>True</th>\n",
       "      <th>Unknown</th>\n",
       "    </tr>\n",
       "    <tr>\n",
       "      <th>SexuponOutcome</th>\n",
       "      <th></th>\n",
       "      <th></th>\n",
       "      <th></th>\n",
       "    </tr>\n",
       "  </thead>\n",
       "  <tbody>\n",
       "    <tr>\n",
       "      <th>Intact Female</th>\n",
       "      <td>0</td>\n",
       "      <td>3511</td>\n",
       "      <td>0</td>\n",
       "    </tr>\n",
       "    <tr>\n",
       "      <th>Intact Male</th>\n",
       "      <td>0</td>\n",
       "      <td>3525</td>\n",
       "      <td>0</td>\n",
       "    </tr>\n",
       "    <tr>\n",
       "      <th>Neutered Male</th>\n",
       "      <td>9779</td>\n",
       "      <td>0</td>\n",
       "      <td>0</td>\n",
       "    </tr>\n",
       "    <tr>\n",
       "      <th>Spayed Female</th>\n",
       "      <td>8820</td>\n",
       "      <td>0</td>\n",
       "      <td>0</td>\n",
       "    </tr>\n",
       "    <tr>\n",
       "      <th>Unknown</th>\n",
       "      <td>0</td>\n",
       "      <td>0</td>\n",
       "      <td>1093</td>\n",
       "    </tr>\n",
       "  </tbody>\n",
       "</table>\n",
       "</div>"
      ],
      "text/plain": [
       "Sterilized      False  True  Unknown\n",
       "SexuponOutcome                      \n",
       "Intact Female       0  3511        0\n",
       "Intact Male         0  3525        0\n",
       "Neutered Male    9779     0        0\n",
       "Spayed Female    8820     0        0\n",
       "Unknown             0     0     1093"
      ]
     },
     "execution_count": 107,
     "metadata": {},
     "output_type": "execute_result"
    }
   ],
   "source": [
    "pd.crosstab(df.SexuponOutcome, df.Sterilized)"
   ]
  },
  {
   "cell_type": "code",
   "execution_count": 100,
   "metadata": {
    "collapsed": false
   },
   "outputs": [
    {
     "data": {
      "text/plain": [
       "Neutered Male    9779\n",
       "Spayed Female    8820\n",
       "Intact Male      3525\n",
       "Intact Female    3511\n",
       "Unknown          1093\n",
       "Name: SexuponOutcome, dtype: int64"
      ]
     },
     "execution_count": 100,
     "metadata": {},
     "output_type": "execute_result"
    }
   ],
   "source": [
    "df.SexuponOutcome.value_counts()"
   ]
  },
  {
   "cell_type": "code",
   "execution_count": null,
   "metadata": {
    "collapsed": true
   },
   "outputs": [],
   "source": [
    "if df.iat(i, 'SexuponOutcome') == 'Neutered Male'"
   ]
  },
  {
   "cell_type": "code",
   "execution_count": 108,
   "metadata": {
    "collapsed": true
   },
   "outputs": [],
   "source": [
    "df['OutcomeType2'] = df.OutcomeType.apply(lambda outcome: 'ReturnToOwner' if outcome == 'Return_to_owner' else outcome)"
   ]
  },
  {
   "cell_type": "code",
   "execution_count": 113,
   "metadata": {
    "collapsed": false
   },
   "outputs": [
    {
     "data": {
      "text/plain": [
       "Adoption         10769\n",
       "Transfer          9422\n",
       "ReturnToOwner     4786\n",
       "Euthanasia        1555\n",
       "Died               197\n",
       "Name: OutcomeType2, dtype: int64"
      ]
     },
     "execution_count": 113,
     "metadata": {},
     "output_type": "execute_result"
    }
   ],
   "source": [
    "df['OutcomeType2'].value_counts()"
   ]
  },
  {
   "cell_type": "code",
   "execution_count": 114,
   "metadata": {
    "collapsed": true
   },
   "outputs": [],
   "source": [
    "def my_outcome(outcome):\n",
    "    if outcome == 'Return_to_owner':\n",
    "        return 'ReturnToOwner'\n",
    "    else:\n",
    "        return outcome"
   ]
  },
  {
   "cell_type": "code",
   "execution_count": 115,
   "metadata": {
    "collapsed": true
   },
   "outputs": [],
   "source": [
    "df['OutcomeType2'] = df.OutcomeType.apply(my_outcome)"
   ]
  },
  {
   "cell_type": "code",
   "execution_count": 116,
   "metadata": {
    "collapsed": false
   },
   "outputs": [
    {
     "data": {
      "text/plain": [
       "Adoption         10769\n",
       "Transfer          9422\n",
       "ReturnToOwner     4786\n",
       "Euthanasia        1555\n",
       "Died               197\n",
       "Name: OutcomeType2, dtype: int64"
      ]
     },
     "execution_count": 116,
     "metadata": {},
     "output_type": "execute_result"
    }
   ],
   "source": [
    "df['OutcomeType2'].value_counts()"
   ]
  },
  {
   "cell_type": "code",
   "execution_count": 120,
   "metadata": {
    "collapsed": true
   },
   "outputs": [],
   "source": [
    "def my_sex(sex):\n",
    "    if sex == 'Neutered Male':\n",
    "        return 'Male'\n",
    "    elif sex == 'Intact Male':\n",
    "        return 'Male'\n",
    "    elif sex == 'Spayed Female':\n",
    "        return 'Female'\n",
    "    elif sex =='Intact Female':\n",
    "        return 'Female'\n",
    "    else:\n",
    "        return sex"
   ]
  },
  {
   "cell_type": "code",
   "execution_count": 121,
   "metadata": {
    "collapsed": false
   },
   "outputs": [
    {
     "data": {
      "text/plain": [
       "True"
      ]
     },
     "execution_count": 121,
     "metadata": {},
     "output_type": "execute_result"
    }
   ],
   "source": [
    "'Male' in 'Neutered Male'"
   ]
  },
  {
   "cell_type": "code",
   "execution_count": 123,
   "metadata": {
    "collapsed": true
   },
   "outputs": [],
   "source": [
    "def my_sex1(sex):\n",
    "    if 'Male' in sex:        \n",
    "        return 'Male'\n",
    "    elif 'Female' in sexm:\n",
    "        return 'Female'\n",
    "    else:\n",
    "        return np.nan"
   ]
  },
  {
   "cell_type": "code",
   "execution_count": 131,
   "metadata": {
    "collapsed": false,
    "scrolled": true
   },
   "outputs": [
    {
     "data": {
      "text/plain": [
       "str"
      ]
     },
     "execution_count": 131,
     "metadata": {},
     "output_type": "execute_result"
    }
   ],
   "source": [
    "type(df.at[0,'AgeuponOutcome'])"
   ]
  },
  {
   "cell_type": "code",
   "execution_count": 155,
   "metadata": {
    "collapsed": true
   },
   "outputs": [],
   "source": [
    "def my_age(age):\n",
    "    age1 = str(age)\n",
    "    if age1 == 'nan':\n",
    "        return age\n",
    "    else:\n",
    "        age2 = age1.split(\" \")\n",
    "        if 'year' in age2[1]:\n",
    "            return float(age2[0])*52\n",
    "        elif 'years'in age2[1]:\n",
    "            return float(age2[0])*52\n",
    "        elif 'month' in age2[1]:\n",
    "            return float(age2[0])*4\n",
    "        elif 'months' in age2[1]:\n",
    "            return float(age2[0])*4\n",
    "        elif 'day' in age2[1]:\n",
    "            return float(age2[0])/7\n",
    "        elif 'days' in age2[1]:\n",
    "            return float(age2[0])/7"
   ]
  },
  {
   "cell_type": "code",
   "execution_count": 156,
   "metadata": {
    "collapsed": false
   },
   "outputs": [],
   "source": [
    "df['AgeInWeeks'] = df.AgeuponOutcome.apply(my_age)"
   ]
  },
  {
   "cell_type": "code",
   "execution_count": 157,
   "metadata": {
    "collapsed": false,
    "scrolled": true
   },
   "outputs": [
    {
     "data": {
      "text/plain": [
       "0         52.0\n",
       "1         52.0\n",
       "2        104.0\n",
       "3          NaN\n",
       "4        104.0\n",
       "         ...  \n",
       "26724      4.0\n",
       "26725     12.0\n",
       "26726    208.0\n",
       "26727      NaN\n",
       "26728     52.0\n",
       "Name: AgeInWeeks, dtype: float64"
      ]
     },
     "execution_count": 157,
     "metadata": {},
     "output_type": "execute_result"
    }
   ],
   "source": [
    "df.AgeInWeeks"
   ]
  },
  {
   "cell_type": "code",
   "execution_count": 158,
   "metadata": {
    "collapsed": true
   },
   "outputs": [],
   "source": [
    "a ='1 year'"
   ]
  },
  {
   "cell_type": "code",
   "execution_count": 144,
   "metadata": {
    "collapsed": true
   },
   "outputs": [],
   "source": [
    "(number, unit) = a.split (' ')"
   ]
  },
  {
   "cell_type": "code",
   "execution_count": 146,
   "metadata": {
    "collapsed": false
   },
   "outputs": [],
   "source": [
    "number=float(number)"
   ]
  },
  {
   "cell_type": "code",
   "execution_count": 147,
   "metadata": {
    "collapsed": false
   },
   "outputs": [
    {
     "data": {
      "text/plain": [
       "10.0"
      ]
     },
     "execution_count": 147,
     "metadata": {},
     "output_type": "execute_result"
    }
   ],
   "source": [
    "number*10"
   ]
  },
  {
   "cell_type": "code",
   "execution_count": 159,
   "metadata": {
    "collapsed": false
   },
   "outputs": [
    {
     "ename": "SyntaxError",
     "evalue": "invalid syntax (<ipython-input-159-bbe331e8a620>, line 10)",
     "output_type": "error",
     "traceback": [
      "\u001b[0;36m  File \u001b[0;32m\"<ipython-input-159-bbe331e8a620>\"\u001b[0;36m, line \u001b[0;32m10\u001b[0m\n\u001b[0;31m    ....\u001b[0m\n\u001b[0m    ^\u001b[0m\n\u001b[0;31mSyntaxError\u001b[0m\u001b[0;31m:\u001b[0m invalid syntax\n"
     ]
    }
   ],
   "source": [
    "def my_age_ivan(age):\n",
    "    (value, unit) = a.split (' ')\n",
    "    value = float(value)\n",
    "    if ((unit == 'day') | (unit == 'days')):\n",
    "        return value\n",
    "    elif ((unit == 'week') | (unit == 'weeks')):\n",
    "        return value*7\n",
    "    elif 'month' in unit:\n",
    "        return value*30.5\n",
    "    ...."
   ]
  },
  {
   "cell_type": "code",
   "execution_count": 163,
   "metadata": {
    "collapsed": false
   },
   "outputs": [
    {
     "data": {
      "text/plain": [
       "array(['Shetland Sheepdog Mix', 'Domestic Shorthair Mix', 'Pit Bull Mix',\n",
       "       ..., 'Vizsla/Boxer', 'German Shepherd/Australian Kelpie',\n",
       "       'Boxer/German Shepherd'], dtype=object)"
      ]
     },
     "execution_count": 163,
     "metadata": {},
     "output_type": "execute_result"
    }
   ],
   "source": [
    "df.Breed.unique()"
   ]
  },
  {
   "cell_type": "code",
   "execution_count": 170,
   "metadata": {
    "collapsed": false
   },
   "outputs": [
    {
     "data": {
      "text/plain": [
       "366"
      ]
     },
     "execution_count": 170,
     "metadata": {},
     "output_type": "execute_result"
    }
   ],
   "source": [
    "df.Color.unique().shape[0]"
   ]
  },
  {
   "cell_type": "code",
   "execution_count": 173,
   "metadata": {
    "collapsed": false
   },
   "outputs": [
    {
     "data": {
      "text/plain": [
       "1380"
      ]
     },
     "execution_count": 173,
     "metadata": {},
     "output_type": "execute_result"
    }
   ],
   "source": [
    "df.Breed.unique().shape[0]"
   ]
  },
  {
   "cell_type": "code",
   "execution_count": 174,
   "metadata": {
    "collapsed": false
   },
   "outputs": [
    {
     "data": {
      "text/plain": [
       "0    Domestic Shorthair Mix\n",
       "dtype: object"
      ]
     },
     "execution_count": 174,
     "metadata": {},
     "output_type": "execute_result"
    }
   ],
   "source": [
    "df.Breed.mode()"
   ]
  },
  {
   "cell_type": "code",
   "execution_count": 175,
   "metadata": {
    "collapsed": false
   },
   "outputs": [
    {
     "data": {
      "text/plain": [
       "0    Black/White\n",
       "dtype: object"
      ]
     },
     "execution_count": 175,
     "metadata": {},
     "output_type": "execute_result"
    }
   ],
   "source": [
    "df.Color.mode()"
   ]
  },
  {
   "cell_type": "code",
   "execution_count": 176,
   "metadata": {
    "collapsed": false
   },
   "outputs": [
    {
     "data": {
      "text/plain": [
       "Domestic Shorthair Mix                   8810\n",
       "Pit Bull Mix                             1906\n",
       "Chihuahua Shorthair Mix                  1766\n",
       "Labrador Retriever Mix                   1363\n",
       "Domestic Medium Hair Mix                  839\n",
       "                                         ... \n",
       "Norfolk Terrier/Dachshund                   1\n",
       "Golden Retriever/Whippet                    1\n",
       "Chihuahua Shorthair/Shetland Sheepdog       1\n",
       "Vizsla/Boxer                                1\n",
       "Dachshund/Cavalier Span                     1\n",
       "Name: Breed, dtype: int64"
      ]
     },
     "execution_count": 176,
     "metadata": {},
     "output_type": "execute_result"
    }
   ],
   "source": [
    "df.Breed.value_counts()"
   ]
  },
  {
   "cell_type": "code",
   "execution_count": 177,
   "metadata": {
    "collapsed": false
   },
   "outputs": [
    {
     "data": {
      "text/plain": [
       "Black/White                 2824\n",
       "Black                       2292\n",
       "Brown Tabby                 1635\n",
       "Brown Tabby/White            940\n",
       "White                        931\n",
       "                            ... \n",
       "Blue Merle/Cream               1\n",
       "Blue Tabby/Tan                 1\n",
       "Brown Brindle/Blue Cream       1\n",
       "Blue Cream/Buff                1\n",
       "Blue Cream/Blue Tabby          1\n",
       "Name: Color, dtype: int64"
      ]
     },
     "execution_count": 177,
     "metadata": {},
     "output_type": "execute_result"
    }
   ],
   "source": [
    "df.Color.value_counts()"
   ]
  },
  {
   "cell_type": "code",
   "execution_count": 178,
   "metadata": {
    "collapsed": false
   },
   "outputs": [
    {
     "data": {
      "text/plain": [
       "array(['Brown/White', 'Cream Tabby', 'Blue/White', 'Blue Cream', 'Tan',\n",
       "       'Black/Tan', 'Blue Tabby', 'Brown Tabby', 'Red/White', 'White',\n",
       "       'Black', 'Silver', 'Brown', 'Black/Red', 'White/Cream',\n",
       "       'Orange Tabby/White', 'Black/White', 'Brown Brindle/White',\n",
       "       'Black/Brown', 'Orange Tabby', 'Chocolate/White', 'White/Tan',\n",
       "       'Cream Tabby/White', 'Blue', 'Calico', 'Torbie', 'Brown/Black',\n",
       "       'Yellow', 'Tricolor', 'White/Black', 'Tortie', 'Blue Tabby/White',\n",
       "       'Gray/White', 'Tan/Black', 'Tan/White', 'Buff', 'Brown Tabby/White',\n",
       "       'Red', 'Blue/Tan', 'Seal Point', 'Brown Brindle', 'White/Brown',\n",
       "       'Gray', 'Yellow Brindle/White', 'Fawn/White', 'Flame Point',\n",
       "       'Black Tabby/White', 'Tortie/Calico', 'Black/Brown Brindle',\n",
       "       'White/Gray', 'Tan/Silver', 'Red Tick/Black', 'White/Cream Tabby',\n",
       "       'Blue Merle', 'Chocolate/Tan', 'Sable', 'Brown Merle/White',\n",
       "       'Brown Tiger/White', 'Liver/White', 'White/Blue Tabby',\n",
       "       'Black/Gray', 'Cream', 'Chocolate', 'Blue Point', 'Apricot/White',\n",
       "       'Red Merle/Black', 'White/Brown Tabby', 'Blue Merle/White', 'Fawn',\n",
       "       'Lynx Point/White', 'Fawn/Black', 'Red Tick/White', 'Buff/Tan',\n",
       "       'Brown Brindle/Red Tick', 'White/Blue', 'Lilac Point', 'Buff/White',\n",
       "       'White/Orange Tabby', 'Tortie Point', 'Lynx Point', 'Tortie/White',\n",
       "       'Black/Tricolor', 'Apricot', 'Red/Tan', 'Tan/Brown',\n",
       "       'White/Tricolor', 'Brown/Tricolor', 'White/White', 'Gray Tabby',\n",
       "       'Sable/White', 'Blue Tiger/White', 'Yellow Brindle',\n",
       "       'White/Brown Brindle', 'Gold', 'Brown/Tan', 'Blue Tick',\n",
       "       'Torbie/White', 'Black Smoke/White', 'Blue Tabby/Orange',\n",
       "       'Red Merle', 'Tricolor/Blue', 'Yellow/White', 'Black Smoke',\n",
       "       'Calico Point', 'Blue Cream/Blue Tiger', 'Blue Merle/Gray',\n",
       "       'Brown/Silver', 'Tricolor/White', 'Sable/Black', 'Black Brindle',\n",
       "       'Tortie Point/Lynx Point', 'Brown Brindle/Black', 'Black/Buff',\n",
       "       'Calico/White', 'White/Orange', 'Black Tabby', 'Brown Merle',\n",
       "       'Black Brindle/White', 'Tan/Gray', 'Blue Merle/Brown',\n",
       "       'Red Merle/White', 'White/Chocolate Point', 'Silver/Black',\n",
       "       'White/Red', 'Cream/Red Tick', 'Cream/White', 'White/Liver',\n",
       "       'Chocolate/Gold', 'Calico Point/White', 'Brown/Brown',\n",
       "       'Seal Point/White', 'White/Black Brindle', 'Red/Black',\n",
       "       'Sable/Brown', 'Silver/Tan', 'White/Blue Merle',\n",
       "       'Calico/Brown Tabby', 'Silver Tabby', 'Tan/Blue', 'Blue Merle/Tan',\n",
       "       'Blue Tick/Black', 'Cream/Black', 'Chocolate/Tricolor',\n",
       "       'Gold/White', 'Silver/Brown', 'Cream/Gray', 'Black/Blue Tick',\n",
       "       'White/Chocolate', 'Black/Blue Merle', 'Red/Red Tick',\n",
       "       'Tricolor/Black', 'Orange', 'Black/Orange', 'Tan/Buff',\n",
       "       'Chocolate Point/White', 'Orange/White', 'Tortie/Blue Cream',\n",
       "       'White/Black Tabby', 'Brown/Red Tick', 'Blue/Brown Brindle',\n",
       "       'Black/Silver Tabby', 'Tan/Red', 'White/Lynx Point', 'Gray/Silver',\n",
       "       'Red/Gold', 'White/Buff', 'Tan/Gold', 'Blue Tabby/Blue Cream',\n",
       "       'Cream/Tan', 'Calico/Black', 'Sable/Tan', 'Blue/Black',\n",
       "       'Brown Tabby/Black', 'Red/Cream', 'Brown Tiger', 'Agouti',\n",
       "       'Gray/Tan', 'Calico/Tricolor', 'Black/Black', 'White/Blue Cream',\n",
       "       'Brown/Gray', 'Blue Point/White', 'Gray Tabby/White',\n",
       "       'White/Brown Tiger', 'Black/Cream', 'Red Tick/Tan',\n",
       "       'Orange Tabby/Apricot', 'Red Tick/Brown', 'White/Brown Merle',\n",
       "       'Fawn/Tricolor', 'Blue Smoke', 'Chocolate/Brown Brindle',\n",
       "       'Black Brindle/Black', 'Tan/Cream', 'Black Tabby/Orange',\n",
       "       'Apricot/Brown', 'Gray/Black', 'Buff/Red', 'Tan/Brown Brindle',\n",
       "       'Brown/Red', 'Black/Silver', 'Red Tick', 'Blue Tick/White',\n",
       "       'Silver Tabby/White', 'White/Apricot', 'White/Red Merle',\n",
       "       'Fawn/Brown Brindle', 'Orange/Tan', 'Black/Black Smoke',\n",
       "       'Brown/Chocolate', 'Liver Tick', 'Cream/Red',\n",
       "       'Black Smoke/Brown Tabby', 'Gray/Cream', 'Chocolate Point',\n",
       "       'Blue Merle/Tricolor', 'Red/Blue', 'Tricolor/Brown Merle',\n",
       "       'Blue/Tortie', 'Blue Smoke/Brown', 'Red/Brown', 'White/Silver',\n",
       "       'Tricolor/Brown', 'Chocolate/Brown', 'Blue Cream/White',\n",
       "       'Chocolate/Red', 'Cream/Brown', 'Blue Merle/Cream', 'Buff/Black',\n",
       "       'Tortie/Orange', 'Brown Merle/Black', 'Seal Point/Brown',\n",
       "       'Blue Tabby/Tan', 'Red/Red Merle', 'Tortie/Brown', 'Sable/Cream',\n",
       "       'Black/Black Tabby', 'Brown Tabby/Gray', 'Tan/Tan',\n",
       "       'Blue Tick/Brown', 'Chocolate/Black Smoke', 'Brown/Black Tabby',\n",
       "       'Brown/Buff', 'Yellow Brindle/Tan', 'Blue Tick/Tan',\n",
       "       'Red Tick/Brown Merle', 'White/Yellow', 'Lynx Point/Brown Tabby',\n",
       "       'Torbie/Brown', 'Liver/Buff', 'Tricolor/Tan', 'Chocolate/Black',\n",
       "       'Pink', 'Black/Blue', 'White/Gold', 'Red Tick/Red',\n",
       "       'Black/Yellow Brindle', 'Black/Chocolate', 'Silver Lynx Point',\n",
       "       'Brown/Brown Merle', 'Orange Tabby/Black', 'Tortie/Black',\n",
       "       'Brown Tabby/Brown', 'Brown Brindle/Tan', 'Torbie/Blue Cream',\n",
       "       'Black Brindle/Brown', 'Red/Tricolor', 'Blue/Yellow Brindle',\n",
       "       'White/Black Smoke', 'Ruddy/Cream', 'Blue Merle/Black',\n",
       "       'White/Yellow Brindle', 'Blue/Cream', 'Gold/Yellow', 'Blue Tiger',\n",
       "       'Tan/Brown Merle', 'White/Red Tick', 'Buff/Yellow',\n",
       "       'Tricolor/Chocolate', 'Silver/White', 'Gold/Tan', 'Gold/Gold',\n",
       "       'Tortie Point/White', 'Blue Tick/Red Tick', 'Brown Merle/Tan',\n",
       "       'Red Tick/Blue Tick', 'Brown/Blue Smoke', 'Liver/Tan',\n",
       "       'Red Merle/Tan', 'Black/Black Brindle', 'Blue Cream/Buff',\n",
       "       'Gray/Brown', 'Blue/Orange', 'Brown Merle/Blue Merle', 'White/Pink',\n",
       "       'Calico/Brown', 'Torbie/Calico', 'White/Gray Tabby',\n",
       "       'Brown Brindle/Blue', 'Brown/Blue', 'Blue Merle/Red',\n",
       "       'Brown Brindle/Brown Merle', 'Blue/Brown', 'Calico/Orange Tabby',\n",
       "       'White/Flame Point', 'Brown/Cream', 'Brown Brindle/Brown Brindle',\n",
       "       'Blue Merle/Blue Merle', 'White/Calico', 'Fawn/Brown', 'Gold/Black',\n",
       "       'Chocolate/Brown Merle', 'White/Blue Tick', 'Agouti/Brown Tabby',\n",
       "       'Brown Tabby/Tortie', 'Black/Yellow', 'Chocolate/Red Tick',\n",
       "       'Gray/Red', 'Brown Brindle/Blue Tick', 'Tan/Apricot',\n",
       "       'Blue Tick/Brown Brindle', 'Liver Tick/White', 'Cream/Seal Point',\n",
       "       'Lynx Point/Gray Tabby', 'Red/Buff', 'Tan/Tricolor',\n",
       "       'Blue Tabby/Cream', 'Black Tiger/White', 'Silver/Chocolate',\n",
       "       'Tricolor/Silver', 'Blue Merle/Red Merle', 'Silver Tabby/Black',\n",
       "       'Tortie/Black Smoke', 'Orange/Orange Tabby', 'Fawn/Blue',\n",
       "       'Black/Brown Merle', 'Tricolor/Blue Merle', 'Blue Cream/Tortie',\n",
       "       'Orange Tabby/Orange', 'Blue Tick/Red', 'Fawn/Tan',\n",
       "       'Brown Tabby/Orange', 'Yellow Brindle/Blue',\n",
       "       'Brown Brindle/Blue Cream', 'Yellow/Black', 'Calico/Blue Cream',\n",
       "       'Tan/Yellow Brindle', 'Black Brindle/Brown Brindle',\n",
       "       'Chocolate/Cream', 'Blue Cream/Blue Tabby', 'Calico/Blue Tabby',\n",
       "       'Orange Tiger', 'Cream/Orange', 'Sable/Red', 'Buff/Gray',\n",
       "       'Gold/Buff', 'Silver/Red', 'Tricolor/Calico', 'Brown/Black Brindle',\n",
       "       'Chocolate/Gray', 'Brown Tabby/Gray Tabby', 'Yellow/Yellow',\n",
       "       'Gray Tabby/Black', 'Red/Silver', 'Buff/Brown', 'Sable/Buff'], dtype=object)"
      ]
     },
     "execution_count": 178,
     "metadata": {},
     "output_type": "execute_result"
    }
   ],
   "source": [
    "df.Color.unique()"
   ]
  },
  {
   "cell_type": "code",
   "execution_count": null,
   "metadata": {
    "collapsed": true
   },
   "outputs": [],
   "source": []
  }
 ],
 "metadata": {
  "anaconda-cloud": {},
  "kernelspec": {
   "display_name": "Python [Root]",
   "language": "python",
   "name": "Python [Root]"
  },
  "language_info": {
   "codemirror_mode": {
    "name": "ipython",
    "version": 2
   },
   "file_extension": ".py",
   "mimetype": "text/x-python",
   "name": "python",
   "nbconvert_exporter": "python",
   "pygments_lexer": "ipython2",
   "version": "2.7.12"
  }
 },
 "nbformat": 4,
 "nbformat_minor": 0
}
