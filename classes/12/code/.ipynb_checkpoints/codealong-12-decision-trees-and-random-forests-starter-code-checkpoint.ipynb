{
 "cells": [
  {
   "cell_type": "markdown",
   "metadata": {},
   "source": [
    "# DS-SF-25 | Codealong 12 | Decision Trees and Random Forests"
   ]
  },
  {
   "cell_type": "code",
   "execution_count": 1,
   "metadata": {
    "collapsed": true
   },
   "outputs": [],
   "source": [
    "import os\n",
    "\n",
    "import numpy as np\n",
    "import pandas as pd\n",
    "pd.set_option('display.max_rows', 10)\n",
    "pd.set_option('display.notebook_repr_html', True)\n",
    "pd.set_option('display.max_columns', 10)\n",
    "\n",
    "import matplotlib.pyplot as plt\n",
    "%matplotlib inline\n",
    "plt.style.use('ggplot')\n",
    "\n",
    "import math"
   ]
  },
  {
   "cell_type": "markdown",
   "metadata": {},
   "source": [
    "## Part A - The 2008 Democratic Primaries"
   ]
  },
  {
   "cell_type": "markdown",
   "metadata": {},
   "source": [
    "(dataset adapted from http://www.stat.ucla.edu/~cocteau/primaries.csv)"
   ]
  },
  {
   "cell_type": "code",
   "execution_count": 2,
   "metadata": {
    "collapsed": false
   },
   "outputs": [],
   "source": [
    "df = pd.read_csv(os.path.join('..', 'datasets', '2008-democrat-primaries.csv'))"
   ]
  },
  {
   "cell_type": "code",
   "execution_count": 3,
   "metadata": {
    "collapsed": false
   },
   "outputs": [
    {
     "data": {
      "text/plain": [
       "Index([u'fips', u'county_name', u'state_postal', u'region', u'election_date',\n",
       "       u'racetype', u'tvotes', u'clinton', u'obama', u'edwards', u'margin',\n",
       "       u'winner', u'POP05_SQMI', u'popUnder30_00', u'pop65up_00',\n",
       "       u'presVote04', u'kerry04', u'Bush04', u'pres04margin', u'pres04winner',\n",
       "       u'pop06', u'pop00', u'hisp06', u'white06', u'black06', u'indian06',\n",
       "       u'asian06', u'hawaii06', u'mixed06', u'pct_less_30k', u'pct_more_100k',\n",
       "       u'pct_hs_grad', u'pct_labor_force', u'pct_homeowner', u'unempFeb07',\n",
       "       u'unempFeb08', u'unempChg', u'pctUnins00', u'subForPctHomes',\n",
       "       u'poverty05', u'median_hhi05', u'Catholic', u'So.Bapt.Conv',\n",
       "       u'Un.Methodist', u'E.L.C.A.', u'Construction', u'Manufacturing',\n",
       "       u'FinancialActivities', u'GoodsProducing', u'ServiceProviding'],\n",
       "      dtype='object')"
      ]
     },
     "execution_count": 3,
     "metadata": {},
     "output_type": "execute_result"
    }
   ],
   "source": [
    "df.columns"
   ]
  },
  {
   "cell_type": "code",
   "execution_count": 4,
   "metadata": {
    "collapsed": false
   },
   "outputs": [
    {
     "data": {
      "text/html": [
       "<div>\n",
       "<table border=\"1\" class=\"dataframe\">\n",
       "  <thead>\n",
       "    <tr style=\"text-align: right;\">\n",
       "      <th></th>\n",
       "      <th>fips</th>\n",
       "      <th>county_name</th>\n",
       "      <th>state_postal</th>\n",
       "      <th>region</th>\n",
       "      <th>election_date</th>\n",
       "      <th>...</th>\n",
       "      <th>Construction</th>\n",
       "      <th>Manufacturing</th>\n",
       "      <th>FinancialActivities</th>\n",
       "      <th>GoodsProducing</th>\n",
       "      <th>ServiceProviding</th>\n",
       "    </tr>\n",
       "  </thead>\n",
       "  <tbody>\n",
       "    <tr>\n",
       "      <th>0</th>\n",
       "      <td>1001</td>\n",
       "      <td>Autauga</td>\n",
       "      <td>AL</td>\n",
       "      <td>S</td>\n",
       "      <td>2/5/08</td>\n",
       "      <td>...</td>\n",
       "      <td>6.797467</td>\n",
       "      <td>17.577510</td>\n",
       "      <td>5.366229</td>\n",
       "      <td>26.776236</td>\n",
       "      <td>73.223764</td>\n",
       "    </tr>\n",
       "    <tr>\n",
       "      <th>1</th>\n",
       "      <td>1003</td>\n",
       "      <td>Baldwin</td>\n",
       "      <td>AL</td>\n",
       "      <td>S</td>\n",
       "      <td>2/5/08</td>\n",
       "      <td>...</td>\n",
       "      <td>10.558143</td>\n",
       "      <td>9.230177</td>\n",
       "      <td>7.923872</td>\n",
       "      <td>21.282357</td>\n",
       "      <td>78.717643</td>\n",
       "    </tr>\n",
       "    <tr>\n",
       "      <th>2</th>\n",
       "      <td>1005</td>\n",
       "      <td>Barbour</td>\n",
       "      <td>AL</td>\n",
       "      <td>S</td>\n",
       "      <td>2/5/08</td>\n",
       "      <td>...</td>\n",
       "      <td>2.501616</td>\n",
       "      <td>45.067103</td>\n",
       "      <td>3.379843</td>\n",
       "      <td>51.275520</td>\n",
       "      <td>48.724480</td>\n",
       "    </tr>\n",
       "    <tr>\n",
       "      <th>3</th>\n",
       "      <td>1007</td>\n",
       "      <td>Bibb</td>\n",
       "      <td>AL</td>\n",
       "      <td>S</td>\n",
       "      <td>2/5/08</td>\n",
       "      <td>...</td>\n",
       "      <td>20.750603</td>\n",
       "      <td>15.723631</td>\n",
       "      <td>3.477562</td>\n",
       "      <td>42.557099</td>\n",
       "      <td>57.442901</td>\n",
       "    </tr>\n",
       "    <tr>\n",
       "      <th>4</th>\n",
       "      <td>1009</td>\n",
       "      <td>Blount</td>\n",
       "      <td>AL</td>\n",
       "      <td>S</td>\n",
       "      <td>2/5/08</td>\n",
       "      <td>...</td>\n",
       "      <td>9.754604</td>\n",
       "      <td>22.763883</td>\n",
       "      <td>4.300316</td>\n",
       "      <td>34.129339</td>\n",
       "      <td>65.870661</td>\n",
       "    </tr>\n",
       "  </tbody>\n",
       "</table>\n",
       "<p>5 rows × 50 columns</p>\n",
       "</div>"
      ],
      "text/plain": [
       "   fips county_name state_postal region election_date        ...         \\\n",
       "0  1001     Autauga           AL      S        2/5/08        ...          \n",
       "1  1003     Baldwin           AL      S        2/5/08        ...          \n",
       "2  1005     Barbour           AL      S        2/5/08        ...          \n",
       "3  1007        Bibb           AL      S        2/5/08        ...          \n",
       "4  1009      Blount           AL      S        2/5/08        ...          \n",
       "\n",
       "  Construction  Manufacturing  FinancialActivities  GoodsProducing  \\\n",
       "0     6.797467      17.577510             5.366229       26.776236   \n",
       "1    10.558143       9.230177             7.923872       21.282357   \n",
       "2     2.501616      45.067103             3.379843       51.275520   \n",
       "3    20.750603      15.723631             3.477562       42.557099   \n",
       "4     9.754604      22.763883             4.300316       34.129339   \n",
       "\n",
       "   ServiceProviding  \n",
       "0         73.223764  \n",
       "1         78.717643  \n",
       "2         48.724480  \n",
       "3         57.442901  \n",
       "4         65.870661  \n",
       "\n",
       "[5 rows x 50 columns]"
      ]
     },
     "execution_count": 4,
     "metadata": {},
     "output_type": "execute_result"
    }
   ],
   "source": [
    "df.head()"
   ]
  },
  {
   "cell_type": "code",
   "execution_count": 5,
   "metadata": {
    "collapsed": false
   },
   "outputs": [
    {
     "name": "stderr",
     "output_type": "stream",
     "text": [
      "/Users/gyzhang328/anaconda/lib/python2.7/site-packages/numpy/lib/function_base.py:3834: RuntimeWarning: Invalid value encountered in percentile\n",
      "  RuntimeWarning)\n"
     ]
    },
    {
     "data": {
      "text/html": [
       "<div>\n",
       "<table border=\"1\" class=\"dataframe\">\n",
       "  <thead>\n",
       "    <tr style=\"text-align: right;\">\n",
       "      <th></th>\n",
       "      <th>fips</th>\n",
       "      <th>tvotes</th>\n",
       "      <th>clinton</th>\n",
       "      <th>obama</th>\n",
       "      <th>edwards</th>\n",
       "      <th>...</th>\n",
       "      <th>Construction</th>\n",
       "      <th>Manufacturing</th>\n",
       "      <th>FinancialActivities</th>\n",
       "      <th>GoodsProducing</th>\n",
       "      <th>ServiceProviding</th>\n",
       "    </tr>\n",
       "  </thead>\n",
       "  <tbody>\n",
       "    <tr>\n",
       "      <th>count</th>\n",
       "      <td>2261.000000</td>\n",
       "      <td>2.261000e+03</td>\n",
       "      <td>2261.000000</td>\n",
       "      <td>2261.000000</td>\n",
       "      <td>2261.000000</td>\n",
       "      <td>...</td>\n",
       "      <td>2258.000000</td>\n",
       "      <td>2258.000000</td>\n",
       "      <td>2260.000000</td>\n",
       "      <td>2256.000000</td>\n",
       "      <td>2259.000000</td>\n",
       "    </tr>\n",
       "    <tr>\n",
       "      <th>mean</th>\n",
       "      <td>32494.121628</td>\n",
       "      <td>1.152277e+04</td>\n",
       "      <td>5374.345865</td>\n",
       "      <td>5662.964617</td>\n",
       "      <td>329.618310</td>\n",
       "      <td>...</td>\n",
       "      <td>inf</td>\n",
       "      <td>inf</td>\n",
       "      <td>inf</td>\n",
       "      <td>inf</td>\n",
       "      <td>inf</td>\n",
       "    </tr>\n",
       "    <tr>\n",
       "      <th>std</th>\n",
       "      <td>16586.654250</td>\n",
       "      <td>4.613543e+04</td>\n",
       "      <td>21682.477151</td>\n",
       "      <td>24456.840787</td>\n",
       "      <td>1189.247283</td>\n",
       "      <td>...</td>\n",
       "      <td>NaN</td>\n",
       "      <td>NaN</td>\n",
       "      <td>NaN</td>\n",
       "      <td>NaN</td>\n",
       "      <td>NaN</td>\n",
       "    </tr>\n",
       "    <tr>\n",
       "      <th>min</th>\n",
       "      <td>1001.000000</td>\n",
       "      <td>1.000000e+00</td>\n",
       "      <td>0.000000</td>\n",
       "      <td>0.000000</td>\n",
       "      <td>0.000000</td>\n",
       "      <td>...</td>\n",
       "      <td>0.000000</td>\n",
       "      <td>0.000000</td>\n",
       "      <td>0.000000</td>\n",
       "      <td>0.000000</td>\n",
       "      <td>0.000000</td>\n",
       "    </tr>\n",
       "    <tr>\n",
       "      <th>25%</th>\n",
       "      <td>17147.000000</td>\n",
       "      <td>7.580000e+02</td>\n",
       "      <td>309.000000</td>\n",
       "      <td>249.000000</td>\n",
       "      <td>13.000000</td>\n",
       "      <td>...</td>\n",
       "      <td>NaN</td>\n",
       "      <td>NaN</td>\n",
       "      <td>NaN</td>\n",
       "      <td>NaN</td>\n",
       "      <td>NaN</td>\n",
       "    </tr>\n",
       "    <tr>\n",
       "      <th>50%</th>\n",
       "      <td>36013.000000</td>\n",
       "      <td>2.405000e+03</td>\n",
       "      <td>1138.000000</td>\n",
       "      <td>916.000000</td>\n",
       "      <td>66.000000</td>\n",
       "      <td>...</td>\n",
       "      <td>NaN</td>\n",
       "      <td>NaN</td>\n",
       "      <td>NaN</td>\n",
       "      <td>NaN</td>\n",
       "      <td>NaN</td>\n",
       "    </tr>\n",
       "    <tr>\n",
       "      <th>75%</th>\n",
       "      <td>48223.000000</td>\n",
       "      <td>6.223000e+03</td>\n",
       "      <td>3213.000000</td>\n",
       "      <td>2774.000000</td>\n",
       "      <td>218.000000</td>\n",
       "      <td>...</td>\n",
       "      <td>NaN</td>\n",
       "      <td>NaN</td>\n",
       "      <td>NaN</td>\n",
       "      <td>NaN</td>\n",
       "      <td>NaN</td>\n",
       "    </tr>\n",
       "    <tr>\n",
       "      <th>max</th>\n",
       "      <td>56045.000000</td>\n",
       "      <td>1.271094e+06</td>\n",
       "      <td>699743.000000</td>\n",
       "      <td>728328.000000</td>\n",
       "      <td>26896.000000</td>\n",
       "      <td>...</td>\n",
       "      <td>inf</td>\n",
       "      <td>inf</td>\n",
       "      <td>inf</td>\n",
       "      <td>inf</td>\n",
       "      <td>inf</td>\n",
       "    </tr>\n",
       "  </tbody>\n",
       "</table>\n",
       "<p>8 rows × 43 columns</p>\n",
       "</div>"
      ],
      "text/plain": [
       "               fips        tvotes        clinton          obama       edwards  \\\n",
       "count   2261.000000  2.261000e+03    2261.000000    2261.000000   2261.000000   \n",
       "mean   32494.121628  1.152277e+04    5374.345865    5662.964617    329.618310   \n",
       "std    16586.654250  4.613543e+04   21682.477151   24456.840787   1189.247283   \n",
       "min     1001.000000  1.000000e+00       0.000000       0.000000      0.000000   \n",
       "25%    17147.000000  7.580000e+02     309.000000     249.000000     13.000000   \n",
       "50%    36013.000000  2.405000e+03    1138.000000     916.000000     66.000000   \n",
       "75%    48223.000000  6.223000e+03    3213.000000    2774.000000    218.000000   \n",
       "max    56045.000000  1.271094e+06  699743.000000  728328.000000  26896.000000   \n",
       "\n",
       "             ...         Construction  Manufacturing  FinancialActivities  \\\n",
       "count        ...          2258.000000    2258.000000          2260.000000   \n",
       "mean         ...                  inf            inf                  inf   \n",
       "std          ...                  NaN            NaN                  NaN   \n",
       "min          ...             0.000000       0.000000             0.000000   \n",
       "25%          ...                  NaN            NaN                  NaN   \n",
       "50%          ...                  NaN            NaN                  NaN   \n",
       "75%          ...                  NaN            NaN                  NaN   \n",
       "max          ...                  inf            inf                  inf   \n",
       "\n",
       "       GoodsProducing  ServiceProviding  \n",
       "count     2256.000000       2259.000000  \n",
       "mean              inf               inf  \n",
       "std               NaN               NaN  \n",
       "min          0.000000          0.000000  \n",
       "25%               NaN               NaN  \n",
       "50%               NaN               NaN  \n",
       "75%               NaN               NaN  \n",
       "max               inf               inf  \n",
       "\n",
       "[8 rows x 43 columns]"
      ]
     },
     "execution_count": 5,
     "metadata": {},
     "output_type": "execute_result"
    }
   ],
   "source": [
    "df.describe()"
   ]
  },
  {
   "cell_type": "code",
   "execution_count": 7,
   "metadata": {
    "collapsed": false
   },
   "outputs": [
    {
     "data": {
      "text/plain": [
       "1        16\n",
       "2        14\n",
       "10       11\n",
       "3        10\n",
       "4         9\n",
       "         ..\n",
       "17277     1\n",
       "4615      1\n",
       "2568      1\n",
       "523       1\n",
       "4111      1\n",
       "Name: clinton, dtype: int64"
      ]
     },
     "execution_count": 7,
     "metadata": {},
     "output_type": "execute_result"
    }
   ],
   "source": [
    "df.clinton.value_counts()"
   ]
  },
  {
   "cell_type": "markdown",
   "metadata": {
    "collapsed": true
   },
   "source": [
    "### First cut: Is a county more than 20% black?"
   ]
  },
  {
   "cell_type": "code",
   "execution_count": null,
   "metadata": {
    "collapsed": false
   },
   "outputs": [],
   "source": [
    "# TODO"
   ]
  },
  {
   "cell_type": "markdown",
   "metadata": {
    "collapsed": true
   },
   "source": [
    "#### First cut/right node"
   ]
  },
  {
   "cell_type": "code",
   "execution_count": null,
   "metadata": {
    "collapsed": false
   },
   "outputs": [],
   "source": [
    "# TODO"
   ]
  },
  {
   "cell_type": "code",
   "execution_count": null,
   "metadata": {
    "collapsed": false
   },
   "outputs": [],
   "source": [
    "def obama_vs_clinton(df):\n",
    "    obama = (df.c == 1).sum()\n",
    "    clinton = (df.c == 0).sum()\n",
    "    if obama > clinton:\n",
    "        print 'Obama wins these counties {} to {}.'.format(obama, clinton)\n",
    "    elif clinton > obama:\n",
    "        print 'Clinton wins these counties {} to {}.'.format(clinton, obama)\n",
    "    else:\n",
    "        print 'Obama and Clinton tie in these counties {} {}.'.format(obama, clinton)"
   ]
  },
  {
   "cell_type": "code",
   "execution_count": null,
   "metadata": {
    "collapsed": false
   },
   "outputs": [],
   "source": [
    "obama_vs_clinton(right_child_df)"
   ]
  },
  {
   "cell_type": "markdown",
   "metadata": {},
   "source": [
    "### Second cut: Is high school graduation rate higher than 78%?"
   ]
  },
  {
   "cell_type": "code",
   "execution_count": null,
   "metadata": {
    "collapsed": true
   },
   "outputs": [],
   "source": [
    "# TODO"
   ]
  },
  {
   "cell_type": "code",
   "execution_count": null,
   "metadata": {
    "collapsed": false
   },
   "outputs": [],
   "source": [
    "obama_vs_clinton(left_child_df)"
   ]
  },
  {
   "cell_type": "markdown",
   "metadata": {},
   "source": [
    "### Third cut: Is high school graduation rate higher than 87%?"
   ]
  },
  {
   "cell_type": "code",
   "execution_count": null,
   "metadata": {
    "collapsed": true
   },
   "outputs": [],
   "source": [
    "# TODO"
   ]
  },
  {
   "cell_type": "code",
   "execution_count": null,
   "metadata": {
    "collapsed": false
   },
   "outputs": [],
   "source": [
    "obama_vs_clinton(right_child_df)"
   ]
  },
  {
   "cell_type": "markdown",
   "metadata": {},
   "source": [
    "## Part B - Building the 2008 Democratic Primaries Decision Tree by Hand"
   ]
  },
  {
   "cell_type": "code",
   "execution_count": null,
   "metadata": {
    "collapsed": false
   },
   "outputs": [],
   "source": [
    "class Node:\n",
    "\n",
    "    @staticmethod\n",
    "    def root(root_df):\n",
    "        cs = sorted(set(root_df.c))\n",
    "        return Node(cs, root_df)\n",
    "\n",
    "    def decision(self, left_filter):\n",
    "        # Collect the observations for which the decision split is true and\n",
    "        # create the corresponding left node\n",
    "\n",
    "        left_filter = left_filter(self.df)\n",
    "        left_df = self.df[left_filter]\n",
    "        self.left = Node(self.cs, left_df)\n",
    "\n",
    "        # Same thing on the right side but for the observations that don't\n",
    "        # satisfy the decision split (the \"else\")\n",
    "\n",
    "        right_df = self.df.drop(left_df.index)\n",
    "        self.right = Node(self.cs, right_df)\n",
    "\n",
    "        # The entropy after the decision split is the weighted average of the\n",
    "        # children entropy\n",
    "\n",
    "        self.after = (self.left.samples * self.left.before\n",
    "                      + self.right.samples * self.right.before) / self.samples\n",
    "\n",
    "        # The information gain corresponds to the entropy lost between the\n",
    "        # parent node (this node and the \"before\") and its child (the \"after\")\n",
    "\n",
    "        self.information_gain = self.before - self.after\n",
    "\n",
    "        return self\n",
    "\n",
    "    def __init__(self, cs, df):\n",
    "        self.cs = cs\n",
    "        self.df = df\n",
    "\n",
    "        # Counts of the remaining observations in the subspace per classes\n",
    "        self.counts = [sum(self.df.c == c) for c in self.cs]\n",
    "\n",
    "        # Number of observations in the subspace\n",
    "        self.samples = sum(self.counts)\n",
    "\n",
    "        # For empty subspaces, probabilties and entropy are set to zero\n",
    "        if self.samples == 0:\n",
    "            self.probabilities = [0. for count in self.counts]\n",
    "            self.before = 0.\n",
    "        else:\n",
    "            self.probabilities = [1. * count / self.samples for count in self.counts]\n",
    "            self.before = - sum(map(lambda p: p * math.log(p, 2),\n",
    "                                    filter(lambda p : p > 0., self.probabilities)))\n",
    "\n",
    "    def status(self):\n",
    "        print 'classes                       =', self.cs\n",
    "        print 'before:'\n",
    "        print \"\\tparent:\"\n",
    "        print \"\\t\\tsamples       =\", self.samples\n",
    "        print \"\\t\\tcounts        =\", self.counts\n",
    "        print \"\\t\\tprobabilities =\", self.probabilities\n",
    "        print \"\\t\\tentropy       =\", self.before\n",
    "        print 'after:'\n",
    "        print \"\\tleft child:\"\n",
    "        print \"\\t\\tsamples       =\", self.left.samples\n",
    "        print \"\\t\\tcounts        =\", self.left.counts\n",
    "        print \"\\t\\tprobabilities =\", self.left.probabilities\n",
    "        print \"\\t\\tentropy       =\", self.left.before\n",
    "        print \"\\tright child:\"\n",
    "        print \"\\t\\tsamples       =\", self.right.samples\n",
    "        print \"\\t\\tcounts        =\", self.right.counts\n",
    "        print \"\\t\\tprobabilities =\", self.right.probabilities\n",
    "        print \"\\t\\tentropy       =\", self.right.before\n",
    "        print\n",
    "        print 'before entropy                =', self.before\n",
    "        print 'after entropy                 =', self.after\n",
    "        print 'information gain              =', self.information_gain"
   ]
  },
  {
   "cell_type": "code",
   "execution_count": null,
   "metadata": {
    "collapsed": true
   },
   "outputs": [],
   "source": [
    "df.c = df.winner"
   ]
  },
  {
   "cell_type": "markdown",
   "metadata": {},
   "source": [
    "### First cut"
   ]
  },
  {
   "cell_type": "code",
   "execution_count": null,
   "metadata": {
    "collapsed": false
   },
   "outputs": [],
   "source": [
    "# TODO"
   ]
  },
  {
   "cell_type": "markdown",
   "metadata": {
    "collapsed": true
   },
   "source": [
    "#### Candidate #1: Is a county more than 20% black?"
   ]
  },
  {
   "cell_type": "code",
   "execution_count": null,
   "metadata": {
    "collapsed": false
   },
   "outputs": [],
   "source": [
    "# TODO"
   ]
  },
  {
   "cell_type": "markdown",
   "metadata": {
    "collapsed": true
   },
   "source": [
    "#### Candidate #2: Is high school graduation rate higher than 78%?"
   ]
  },
  {
   "cell_type": "code",
   "execution_count": null,
   "metadata": {
    "collapsed": false
   },
   "outputs": [],
   "source": [
    "# TODO"
   ]
  },
  {
   "cell_type": "markdown",
   "metadata": {
    "collapsed": true
   },
   "source": [
    "#### Candidate #3: Is high school graduation rate higher than 87%?"
   ]
  },
  {
   "cell_type": "code",
   "execution_count": null,
   "metadata": {
    "collapsed": false
   },
   "outputs": [],
   "source": [
    "# TODO"
   ]
  },
  {
   "cell_type": "markdown",
   "metadata": {},
   "source": [
    "### Second cut"
   ]
  },
  {
   "cell_type": "code",
   "execution_count": null,
   "metadata": {
    "collapsed": true
   },
   "outputs": [],
   "source": [
    "# TODO"
   ]
  },
  {
   "cell_type": "markdown",
   "metadata": {},
   "source": [
    "### Third cut"
   ]
  },
  {
   "cell_type": "code",
   "execution_count": null,
   "metadata": {
    "collapsed": false
   },
   "outputs": [],
   "source": [
    "# TODO"
   ]
  }
 ],
 "metadata": {
  "kernelspec": {
   "display_name": "Python [Root]",
   "language": "python",
   "name": "Python [Root]"
  },
  "language_info": {
   "codemirror_mode": {
    "name": "ipython",
    "version": 2
   },
   "file_extension": ".py",
   "mimetype": "text/x-python",
   "name": "python",
   "nbconvert_exporter": "python",
   "pygments_lexer": "ipython2",
   "version": "2.7.12"
  }
 },
 "nbformat": 4,
 "nbformat_minor": 0
}
