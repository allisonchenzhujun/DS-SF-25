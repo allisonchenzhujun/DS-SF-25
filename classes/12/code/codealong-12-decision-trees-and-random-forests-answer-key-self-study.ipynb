{
 "cells": [
  {
   "cell_type": "markdown",
   "metadata": {},
   "source": [
    "# DS-SF-25 | Codealong 12 | Decision Trees and Random Forests | Answer Key"
   ]
  },
  {
   "cell_type": "code",
   "execution_count": 3,
   "metadata": {
    "collapsed": true
   },
   "outputs": [],
   "source": [
    "import os\n",
    "\n",
    "import numpy as np\n",
    "import pandas as pd\n",
    "pd.set_option('display.max_rows', 10)\n",
    "pd.set_option('display.notebook_repr_html', True)\n",
    "pd.set_option('display.max_columns', 10)\n",
    "\n",
    "import matplotlib.pyplot as plt\n",
    "%matplotlib inline\n",
    "plt.style.use('ggplot')\n",
    "\n",
    "import math"
   ]
  },
  {
   "cell_type": "markdown",
   "metadata": {},
   "source": [
    "## Part A - The 2008 Democratic Primaries"
   ]
  },
  {
   "cell_type": "markdown",
   "metadata": {},
   "source": [
    "(dataset adapted from http://www.stat.ucla.edu/~cocteau/primaries.csv)"
   ]
  },
  {
   "cell_type": "code",
   "execution_count": 4,
   "metadata": {
    "collapsed": false
   },
   "outputs": [],
   "source": [
    "df = pd.read_csv(os.path.join('..', 'datasets', '2008-democrat-primaries.csv'))"
   ]
  },
  {
   "cell_type": "code",
   "execution_count": 5,
   "metadata": {
    "collapsed": false
   },
   "outputs": [
    {
     "data": {
      "text/plain": [
       "Index([u'fips', u'county_name', u'state_postal', u'region', u'election_date',\n",
       "       u'racetype', u'tvotes', u'clinton', u'obama', u'edwards', u'margin',\n",
       "       u'winner', u'POP05_SQMI', u'popUnder30_00', u'pop65up_00',\n",
       "       u'presVote04', u'kerry04', u'Bush04', u'pres04margin', u'pres04winner',\n",
       "       u'pop06', u'pop00', u'hisp06', u'white06', u'black06', u'indian06',\n",
       "       u'asian06', u'hawaii06', u'mixed06', u'pct_less_30k', u'pct_more_100k',\n",
       "       u'pct_hs_grad', u'pct_labor_force', u'pct_homeowner', u'unempFeb07',\n",
       "       u'unempFeb08', u'unempChg', u'pctUnins00', u'subForPctHomes',\n",
       "       u'poverty05', u'median_hhi05', u'Catholic', u'So.Bapt.Conv',\n",
       "       u'Un.Methodist', u'E.L.C.A.', u'Construction', u'Manufacturing',\n",
       "       u'FinancialActivities', u'GoodsProducing', u'ServiceProviding'],\n",
       "      dtype='object')"
      ]
     },
     "execution_count": 5,
     "metadata": {},
     "output_type": "execute_result"
    }
   ],
   "source": [
    "df.columns"
   ]
  },
  {
   "cell_type": "code",
   "execution_count": 6,
   "metadata": {
    "collapsed": true
   },
   "outputs": [],
   "source": [
    "df['c'] = (df.winner == 'obama')"
   ]
  },
  {
   "cell_type": "markdown",
   "metadata": {
    "collapsed": true
   },
   "source": [
    "### First cut: Is a county more than 20% black?"
   ]
  },
  {
   "cell_type": "code",
   "execution_count": 7,
   "metadata": {
    "collapsed": false
   },
   "outputs": [],
   "source": [
    "df['pct_black06'] = df.black06 / df.pop06 # Fraction of black voters"
   ]
  },
  {
   "cell_type": "code",
   "execution_count": 8,
   "metadata": {
    "collapsed": false
   },
   "outputs": [],
   "source": [
    "parent_df = df\n",
    "left_child_df = parent_df[parent_df.pct_black06 <= .2]\n",
    "right_child_df = parent_df.drop(left_child_df.index)\n",
    "# or \"parent_df[parent_df.pct_black06 > .2]\""
   ]
  },
  {
   "cell_type": "markdown",
   "metadata": {
    "collapsed": true
   },
   "source": [
    "#### First cut/right node"
   ]
  },
  {
   "cell_type": "code",
   "execution_count": 9,
   "metadata": {
    "collapsed": false
   },
   "outputs": [
    {
     "data": {
      "text/plain": [
       "381"
      ]
     },
     "execution_count": 9,
     "metadata": {},
     "output_type": "execute_result"
    }
   ],
   "source": [
    "(right_child_df.c == 1).sum() # Obama"
   ]
  },
  {
   "cell_type": "code",
   "execution_count": 10,
   "metadata": {
    "collapsed": false
   },
   "outputs": [
    {
     "data": {
      "text/plain": [
       "70"
      ]
     },
     "execution_count": 10,
     "metadata": {},
     "output_type": "execute_result"
    }
   ],
   "source": [
    "(right_child_df.c == 0).sum() # Clinton"
   ]
  },
  {
   "cell_type": "markdown",
   "metadata": {},
   "source": [
    "Obama wins these counties 381 to 70.  (383 to 70 in The Obama-Clinton Divide decision tree)"
   ]
  },
  {
   "cell_type": "code",
   "execution_count": 11,
   "metadata": {
    "collapsed": false
   },
   "outputs": [],
   "source": [
    "def obama_vs_clinton(df):\n",
    "    obama = (df.c == 1).sum()\n",
    "    clinton = (df.c == 0).sum()\n",
    "    if obama > clinton:\n",
    "        print 'Obama wins these counties {} to {}.'.format(obama, clinton)\n",
    "    elif clinton > obama:\n",
    "        print 'Clinton wins these counties {} to {}.'.format(clinton, obama)\n",
    "    else:\n",
    "        print 'Obama and Clinton tie in these counties {} {}.'.format(obama, clinton)"
   ]
  },
  {
   "cell_type": "code",
   "execution_count": 12,
   "metadata": {
    "collapsed": false
   },
   "outputs": [
    {
     "name": "stdout",
     "output_type": "stream",
     "text": [
      "Obama wins these counties 381 to 70.\n"
     ]
    }
   ],
   "source": [
    "obama_vs_clinton(right_child_df)"
   ]
  },
  {
   "cell_type": "markdown",
   "metadata": {},
   "source": [
    "### Second cut: Is high school graduation rate higher than 78%?"
   ]
  },
  {
   "cell_type": "code",
   "execution_count": 13,
   "metadata": {
    "collapsed": true
   },
   "outputs": [],
   "source": [
    "parent_df = left_child_df\n",
    "left_child_df = parent_df[parent_df.pct_hs_grad <= .78]\n",
    "right_child_df = df.drop(left_child_df.index)\n",
    "# or \"parent_df[parent_df.pct_hs_grad > .78]\""
   ]
  },
  {
   "cell_type": "code",
   "execution_count": 14,
   "metadata": {
    "collapsed": false
   },
   "outputs": [
    {
     "name": "stdout",
     "output_type": "stream",
     "text": [
      "Clinton wins these counties 714 to 93.\n"
     ]
    }
   ],
   "source": [
    "obama_vs_clinton(left_child_df)"
   ]
  },
  {
   "cell_type": "markdown",
   "metadata": {},
   "source": [
    "Clinton wins these counties 704 to 89 in The Obama-Clinton Divide decison tree."
   ]
  },
  {
   "cell_type": "markdown",
   "metadata": {},
   "source": [
    "### Third cut: Is high school graduation rate higher than 87%?"
   ]
  },
  {
   "cell_type": "code",
   "execution_count": 15,
   "metadata": {
    "collapsed": true
   },
   "outputs": [],
   "source": [
    "parent_df = right_child_df\n",
    "left_child_df = parent_df[parent_df.pct_hs_grad <= .87]\n",
    "right_child_df = parent_df.drop(left_child_df.index)\n",
    "# or \"parent_df[parent_df.pct_hs_grad > .87]\""
   ]
  },
  {
   "cell_type": "code",
   "execution_count": 16,
   "metadata": {
    "collapsed": false
   },
   "outputs": [
    {
     "name": "stdout",
     "output_type": "stream",
     "text": [
      "Obama wins these counties 183 to 36.\n"
     ]
    }
   ],
   "source": [
    "obama_vs_clinton(right_child_df)"
   ]
  },
  {
   "cell_type": "markdown",
   "metadata": {},
   "source": [
    "Obama wins these counties 185 to 36 in The Obama-Clinton Divide decison tree."
   ]
  },
  {
   "cell_type": "markdown",
   "metadata": {},
   "source": [
    "## Part B - Building the 2008 Democratic Primaries Decision Tree by Hand"
   ]
  },
  {
   "cell_type": "code",
   "execution_count": 17,
   "metadata": {
    "collapsed": false
   },
   "outputs": [],
   "source": [
    "class Node:\n",
    "\n",
    "    @staticmethod\n",
    "    def root(root_df):\n",
    "        cs = sorted(set(root_df.c))\n",
    "        return Node(cs, root_df)\n",
    "\n",
    "    def decision(self, left_filter):\n",
    "        # Collect the observations for which the decision split is true and\n",
    "        # create the corresponding left node\n",
    "\n",
    "        left_filter = left_filter(self.df)\n",
    "        left_df = self.df[left_filter]\n",
    "        self.left = Node(self.cs, left_df)\n",
    "\n",
    "        # Same thing on the right side but for the observations that don't\n",
    "        # satisfy the decision split (the \"else\")\n",
    "\n",
    "        right_df = self.df.drop(left_df.index)\n",
    "        self.right = Node(self.cs, right_df)\n",
    "\n",
    "        # The entropy after the decision split is the weighted average of the\n",
    "        # children entropyt\n",
    "\n",
    "        self.after = (self.left.samples * self.left.before\n",
    "                      + self.right.samples * self.right.before) / self.samples\n",
    "\n",
    "        # The information gain corresponds to the entropy lost between the\n",
    "        # parent node (this node and the \"before\") and its child (the \"after\")\n",
    "\n",
    "        self.information_gain = self.before - self.after\n",
    "\n",
    "        return self\n",
    "\n",
    "    def __init__(self, cs, df):\n",
    "        self.cs = cs\n",
    "        self.df = df\n",
    "\n",
    "        # Counts of the remaining observations in the subspace per classes\n",
    "        self.counts = [(self.df.c == c).sum() for c in self.cs]\n",
    "\n",
    "        # Number of observations in the subspace\n",
    "        self.samples = sum(self.counts)\n",
    "\n",
    "        # For empty subspaces, probabilties and entropy are set to zero\n",
    "        if self.samples == 0:\n",
    "            self.probabilities = [0. for count in self.counts]\n",
    "            self.before = .0\n",
    "        else:\n",
    "            self.probabilities = [1. * count / self.samples for count in self.counts]\n",
    "            self.before = - sum(map(lambda p: p * math.log(p, 2),\n",
    "                                    filter(lambda p : p > .0, self.probabilities)))\n",
    "\n",
    "    def status(self):\n",
    "        print 'classes                       =', self.cs\n",
    "        print 'before:'\n",
    "        print \"\\tparent:\"\n",
    "        print \"\\t\\tsamples       =\", self.samples\n",
    "        print \"\\t\\tcounts        =\", self.counts\n",
    "        print \"\\t\\tprobabilities =\", self.probabilities\n",
    "        print \"\\t\\tentropy       =\", self.before\n",
    "        print 'after:'\n",
    "        print \"\\tleft child:\"\n",
    "        print \"\\t\\tsamples       =\", self.left.samples\n",
    "        print \"\\t\\tcounts        =\", self.left.counts\n",
    "        print \"\\t\\tprobabilities =\", self.left.probabilities\n",
    "        print \"\\t\\tentropy       =\", self.left.before\n",
    "        print \"\\tright child:\"\n",
    "        print \"\\t\\tsamples       =\", self.right.samples\n",
    "        print \"\\t\\tcounts        =\", self.right.counts\n",
    "        print \"\\t\\tprobabilities =\", self.right.probabilities\n",
    "        print \"\\t\\tentropy       =\", self.right.before\n",
    "        print\n",
    "        print 'before entropy                =', self.before\n",
    "        print 'after entropy                 =', self.after\n",
    "        print 'information gain              =', self.information_gain"
   ]
  },
  {
   "cell_type": "code",
   "execution_count": 18,
   "metadata": {
    "collapsed": true
   },
   "outputs": [],
   "source": [
    "df.c = df.winner"
   ]
  },
  {
   "cell_type": "markdown",
   "metadata": {},
   "source": [
    "### First cut"
   ]
  },
  {
   "cell_type": "code",
   "execution_count": 19,
   "metadata": {
    "collapsed": false
   },
   "outputs": [],
   "source": [
    "node = Node.root(df)"
   ]
  },
  {
   "cell_type": "code",
   "execution_count": 20,
   "metadata": {
    "collapsed": false,
    "scrolled": true
   },
   "outputs": [
    {
     "data": {
      "text/html": [
       "<div>\n",
       "<table border=\"1\" class=\"dataframe\">\n",
       "  <thead>\n",
       "    <tr style=\"text-align: right;\">\n",
       "      <th></th>\n",
       "      <th>fips</th>\n",
       "      <th>county_name</th>\n",
       "      <th>state_postal</th>\n",
       "      <th>region</th>\n",
       "      <th>election_date</th>\n",
       "      <th>...</th>\n",
       "      <th>FinancialActivities</th>\n",
       "      <th>GoodsProducing</th>\n",
       "      <th>ServiceProviding</th>\n",
       "      <th>c</th>\n",
       "      <th>pct_black06</th>\n",
       "    </tr>\n",
       "  </thead>\n",
       "  <tbody>\n",
       "    <tr>\n",
       "      <th>0</th>\n",
       "      <td>1001</td>\n",
       "      <td>Autauga</td>\n",
       "      <td>AL</td>\n",
       "      <td>S</td>\n",
       "      <td>2/5/08</td>\n",
       "      <td>...</td>\n",
       "      <td>5.366229</td>\n",
       "      <td>26.776236</td>\n",
       "      <td>73.223764</td>\n",
       "      <td>obama</td>\n",
       "      <td>0.172109</td>\n",
       "    </tr>\n",
       "    <tr>\n",
       "      <th>1</th>\n",
       "      <td>1003</td>\n",
       "      <td>Baldwin</td>\n",
       "      <td>AL</td>\n",
       "      <td>S</td>\n",
       "      <td>2/5/08</td>\n",
       "      <td>...</td>\n",
       "      <td>7.923872</td>\n",
       "      <td>21.282357</td>\n",
       "      <td>78.717643</td>\n",
       "      <td>clinton</td>\n",
       "      <td>0.096363</td>\n",
       "    </tr>\n",
       "    <tr>\n",
       "      <th>2</th>\n",
       "      <td>1005</td>\n",
       "      <td>Barbour</td>\n",
       "      <td>AL</td>\n",
       "      <td>S</td>\n",
       "      <td>2/5/08</td>\n",
       "      <td>...</td>\n",
       "      <td>3.379843</td>\n",
       "      <td>51.275520</td>\n",
       "      <td>48.724480</td>\n",
       "      <td>obama</td>\n",
       "      <td>0.462710</td>\n",
       "    </tr>\n",
       "    <tr>\n",
       "      <th>3</th>\n",
       "      <td>1007</td>\n",
       "      <td>Bibb</td>\n",
       "      <td>AL</td>\n",
       "      <td>S</td>\n",
       "      <td>2/5/08</td>\n",
       "      <td>...</td>\n",
       "      <td>3.477562</td>\n",
       "      <td>42.557099</td>\n",
       "      <td>57.442901</td>\n",
       "      <td>clinton</td>\n",
       "      <td>0.219021</td>\n",
       "    </tr>\n",
       "    <tr>\n",
       "      <th>4</th>\n",
       "      <td>1009</td>\n",
       "      <td>Blount</td>\n",
       "      <td>AL</td>\n",
       "      <td>S</td>\n",
       "      <td>2/5/08</td>\n",
       "      <td>...</td>\n",
       "      <td>4.300316</td>\n",
       "      <td>34.129339</td>\n",
       "      <td>65.870661</td>\n",
       "      <td>clinton</td>\n",
       "      <td>0.015451</td>\n",
       "    </tr>\n",
       "    <tr>\n",
       "      <th>...</th>\n",
       "      <td>...</td>\n",
       "      <td>...</td>\n",
       "      <td>...</td>\n",
       "      <td>...</td>\n",
       "      <td>...</td>\n",
       "      <td>...</td>\n",
       "      <td>...</td>\n",
       "      <td>...</td>\n",
       "      <td>...</td>\n",
       "      <td>...</td>\n",
       "      <td>...</td>\n",
       "    </tr>\n",
       "    <tr>\n",
       "      <th>2256</th>\n",
       "      <td>56037</td>\n",
       "      <td>Sweetwater</td>\n",
       "      <td>WY</td>\n",
       "      <td>W</td>\n",
       "      <td>3/8/08</td>\n",
       "      <td>...</td>\n",
       "      <td>4.383050</td>\n",
       "      <td>42.670654</td>\n",
       "      <td>57.329346</td>\n",
       "      <td>clinton</td>\n",
       "      <td>0.008952</td>\n",
       "    </tr>\n",
       "    <tr>\n",
       "      <th>2257</th>\n",
       "      <td>56039</td>\n",
       "      <td>Teton</td>\n",
       "      <td>WY</td>\n",
       "      <td>W</td>\n",
       "      <td>3/8/08</td>\n",
       "      <td>...</td>\n",
       "      <td>5.465895</td>\n",
       "      <td>14.914934</td>\n",
       "      <td>85.085066</td>\n",
       "      <td>obama</td>\n",
       "      <td>0.002022</td>\n",
       "    </tr>\n",
       "    <tr>\n",
       "      <th>2258</th>\n",
       "      <td>56041</td>\n",
       "      <td>Uinta</td>\n",
       "      <td>WY</td>\n",
       "      <td>W</td>\n",
       "      <td>3/8/08</td>\n",
       "      <td>...</td>\n",
       "      <td>5.170457</td>\n",
       "      <td>32.132498</td>\n",
       "      <td>67.867502</td>\n",
       "      <td>obama</td>\n",
       "      <td>0.000989</td>\n",
       "    </tr>\n",
       "    <tr>\n",
       "      <th>2259</th>\n",
       "      <td>56043</td>\n",
       "      <td>Washakie</td>\n",
       "      <td>WY</td>\n",
       "      <td>W</td>\n",
       "      <td>3/8/08</td>\n",
       "      <td>...</td>\n",
       "      <td>6.323161</td>\n",
       "      <td>34.040552</td>\n",
       "      <td>65.959448</td>\n",
       "      <td>obama</td>\n",
       "      <td>0.001023</td>\n",
       "    </tr>\n",
       "    <tr>\n",
       "      <th>2260</th>\n",
       "      <td>56045</td>\n",
       "      <td>Weston</td>\n",
       "      <td>WY</td>\n",
       "      <td>W</td>\n",
       "      <td>3/8/08</td>\n",
       "      <td>...</td>\n",
       "      <td>5.249570</td>\n",
       "      <td>33.584337</td>\n",
       "      <td>66.415663</td>\n",
       "      <td>clinton</td>\n",
       "      <td>0.001331</td>\n",
       "    </tr>\n",
       "  </tbody>\n",
       "</table>\n",
       "<p>2261 rows × 52 columns</p>\n",
       "</div>"
      ],
      "text/plain": [
       "       fips county_name state_postal region election_date     ...       \\\n",
       "0      1001     Autauga           AL      S        2/5/08     ...        \n",
       "1      1003     Baldwin           AL      S        2/5/08     ...        \n",
       "2      1005     Barbour           AL      S        2/5/08     ...        \n",
       "3      1007        Bibb           AL      S        2/5/08     ...        \n",
       "4      1009      Blount           AL      S        2/5/08     ...        \n",
       "...     ...         ...          ...    ...           ...     ...        \n",
       "2256  56037  Sweetwater           WY      W        3/8/08     ...        \n",
       "2257  56039       Teton           WY      W        3/8/08     ...        \n",
       "2258  56041       Uinta           WY      W        3/8/08     ...        \n",
       "2259  56043    Washakie           WY      W        3/8/08     ...        \n",
       "2260  56045      Weston           WY      W        3/8/08     ...        \n",
       "\n",
       "     FinancialActivities  GoodsProducing  ServiceProviding        c  \\\n",
       "0               5.366229       26.776236         73.223764    obama   \n",
       "1               7.923872       21.282357         78.717643  clinton   \n",
       "2               3.379843       51.275520         48.724480    obama   \n",
       "3               3.477562       42.557099         57.442901  clinton   \n",
       "4               4.300316       34.129339         65.870661  clinton   \n",
       "...                  ...             ...               ...      ...   \n",
       "2256            4.383050       42.670654         57.329346  clinton   \n",
       "2257            5.465895       14.914934         85.085066    obama   \n",
       "2258            5.170457       32.132498         67.867502    obama   \n",
       "2259            6.323161       34.040552         65.959448    obama   \n",
       "2260            5.249570       33.584337         66.415663  clinton   \n",
       "\n",
       "      pct_black06  \n",
       "0        0.172109  \n",
       "1        0.096363  \n",
       "2        0.462710  \n",
       "3        0.219021  \n",
       "4        0.015451  \n",
       "...           ...  \n",
       "2256     0.008952  \n",
       "2257     0.002022  \n",
       "2258     0.000989  \n",
       "2259     0.001023  \n",
       "2260     0.001331  \n",
       "\n",
       "[2261 rows x 52 columns]"
      ]
     },
     "execution_count": 20,
     "metadata": {},
     "output_type": "execute_result"
    }
   ],
   "source": [
    "node.df"
   ]
  },
  {
   "cell_type": "code",
   "execution_count": 21,
   "metadata": {
    "collapsed": false
   },
   "outputs": [
    {
     "data": {
      "text/plain": [
       "[nan, 'clinton', 'obama']"
      ]
     },
     "execution_count": 21,
     "metadata": {},
     "output_type": "execute_result"
    }
   ],
   "source": [
    "node.cs"
   ]
  },
  {
   "cell_type": "markdown",
   "metadata": {
    "collapsed": true
   },
   "source": [
    "#### Candidate #1: Is a county more than 20% black?"
   ]
  },
  {
   "cell_type": "code",
   "execution_count": 22,
   "metadata": {
    "collapsed": false
   },
   "outputs": [
    {
     "name": "stdout",
     "output_type": "stream",
     "text": [
      "classes                       = [nan, 'clinton', 'obama']\n",
      "before:\n",
      "\tparent:\n",
      "\t\tsamples       = 2241\n",
      "\t\tcounts        = [0, 1210, 1031]\n",
      "\t\tprobabilities = [0.0, 0.5399375278893351, 0.46006247211066487]\n",
      "\t\tentropy       = 0.995392878882\n",
      "after:\n",
      "\tleft child:\n",
      "\t\tsamples       = 1791\n",
      "\t\tcounts        = [0, 1141, 650]\n",
      "\t\tprobabilities = [0.0, 0.637074260189838, 0.3629257398101619]\n",
      "\t\tentropy       = 0.945085004347\n",
      "\tright child:\n",
      "\t\tsamples       = 450\n",
      "\t\tcounts        = [0, 69, 381]\n",
      "\t\tprobabilities = [0.0, 0.15333333333333332, 0.8466666666666667]\n",
      "\t\tentropy       = 0.6181194891\n",
      "\n",
      "before entropy                = 0.995392878882\n",
      "after entropy                 = 0.879429278394\n",
      "information gain              = 0.115963600488\n"
     ]
    }
   ],
   "source": [
    "node.decision(lambda df: df.pct_black06 <= .2).status()"
   ]
  },
  {
   "cell_type": "markdown",
   "metadata": {
    "collapsed": true
   },
   "source": [
    "#### Candidate #2: Is high school graduation rate higher than 78%?"
   ]
  },
  {
   "cell_type": "code",
   "execution_count": 23,
   "metadata": {
    "collapsed": false
   },
   "outputs": [
    {
     "name": "stdout",
     "output_type": "stream",
     "text": [
      "classes                       = [nan, 'clinton', 'obama']\n",
      "before:\n",
      "\tparent:\n",
      "\t\tsamples       = 2241\n",
      "\t\tcounts        = [0, 1210, 1031]\n",
      "\t\tprobabilities = [0.0, 0.5399375278893351, 0.46006247211066487]\n",
      "\t\tentropy       = 0.995392878882\n",
      "after:\n",
      "\tleft child:\n",
      "\t\tsamples       = 1167\n",
      "\t\tcounts        = [0, 774, 393]\n",
      "\t\tprobabilities = [0.0, 0.6632390745501285, 0.33676092544987146]\n",
      "\t\tentropy       = 0.92168535501\n",
      "\tright child:\n",
      "\t\tsamples       = 1074\n",
      "\t\tcounts        = [0, 436, 638]\n",
      "\t\tprobabilities = [0.0, 0.4059590316573557, 0.5940409683426443]\n",
      "\t\tentropy       = 0.974329848577\n",
      "\n",
      "before entropy                = 0.995392878882\n",
      "after entropy                 = 0.946915246171\n",
      "information gain              = 0.0484776327111\n"
     ]
    }
   ],
   "source": [
    "node.decision(lambda df: df.pct_hs_grad <= .78).status()"
   ]
  },
  {
   "cell_type": "markdown",
   "metadata": {
    "collapsed": true
   },
   "source": [
    "#### Candidate #3: Is high school graduation rate higher than 87%?"
   ]
  },
  {
   "cell_type": "code",
   "execution_count": 24,
   "metadata": {
    "collapsed": false
   },
   "outputs": [
    {
     "name": "stdout",
     "output_type": "stream",
     "text": [
      "classes                       = [nan, 'clinton', 'obama']\n",
      "before:\n",
      "\tparent:\n",
      "\t\tsamples       = 2241\n",
      "\t\tcounts        = [0, 1210, 1031]\n",
      "\t\tprobabilities = [0.0, 0.5399375278893351, 0.46006247211066487]\n",
      "\t\tentropy       = 0.995392878882\n",
      "after:\n",
      "\tleft child:\n",
      "\t\tsamples       = 2024\n",
      "\t\tcounts        = [0, 1176, 848]\n",
      "\t\tprobabilities = [0.0, 0.5810276679841897, 0.4189723320158103]\n",
      "\t\tentropy       = 0.980972219459\n",
      "\tright child:\n",
      "\t\tsamples       = 217\n",
      "\t\tcounts        = [0, 34, 183]\n",
      "\t\tprobabilities = [0.0, 0.15668202764976957, 0.8433179723502304]\n",
      "\t\tentropy       = 0.62631249047\n",
      "\n",
      "before entropy                = 0.995392878882\n",
      "after entropy                 = 0.94662988961\n",
      "information gain              = 0.0487629892719\n"
     ]
    }
   ],
   "source": [
    "node.decision(lambda df: df.pct_hs_grad <= .87).status()"
   ]
  },
  {
   "cell_type": "markdown",
   "metadata": {},
   "source": [
    "> First cut: Selecting candidate #1: Is a county more than 20% black?"
   ]
  },
  {
   "cell_type": "code",
   "execution_count": 26,
   "metadata": {
    "collapsed": false
   },
   "outputs": [],
   "source": [
    "node = node.decision(lambda df: df.pct_black06 <= .2)"
   ]
  },
  {
   "cell_type": "markdown",
   "metadata": {},
   "source": [
    "### Second cut"
   ]
  },
  {
   "cell_type": "code",
   "execution_count": 27,
   "metadata": {
    "collapsed": true
   },
   "outputs": [],
   "source": [
    "node = node.left # \"left\" is \"county less than 20% black\""
   ]
  },
  {
   "cell_type": "markdown",
   "metadata": {},
   "source": [
    "#### Candidate #1: Is a county more than 20% black?"
   ]
  },
  {
   "cell_type": "code",
   "execution_count": 28,
   "metadata": {
    "collapsed": false
   },
   "outputs": [
    {
     "name": "stdout",
     "output_type": "stream",
     "text": [
      "classes                       = [nan, 'clinton', 'obama']\n",
      "before:\n",
      "\tparent:\n",
      "\t\tsamples       = 1791\n",
      "\t\tcounts        = [0, 1141, 650]\n",
      "\t\tprobabilities = [0.0, 0.637074260189838, 0.3629257398101619]\n",
      "\t\tentropy       = 0.945085004347\n",
      "after:\n",
      "\tleft child:\n",
      "\t\tsamples       = 1791\n",
      "\t\tcounts        = [0, 1141, 650]\n",
      "\t\tprobabilities = [0.0, 0.637074260189838, 0.3629257398101619]\n",
      "\t\tentropy       = 0.945085004347\n",
      "\tright child:\n",
      "\t\tsamples       = 0\n",
      "\t\tcounts        = [0, 0, 0]\n",
      "\t\tprobabilities = [0.0, 0.0, 0.0]\n",
      "\t\tentropy       = 0.0\n",
      "\n",
      "before entropy                = 0.945085004347\n",
      "after entropy                 = 0.945085004347\n",
      "information gain              = 0.0\n"
     ]
    }
   ],
   "source": [
    "node.decision(lambda df: df.pct_black06 <= .2).status()"
   ]
  },
  {
   "cell_type": "markdown",
   "metadata": {},
   "source": [
    "> Again, no information gain since this candidate was already selected for the first cut."
   ]
  },
  {
   "cell_type": "markdown",
   "metadata": {},
   "source": [
    "#### Candidate #2: Is high school graduation rate higher than 78%?"
   ]
  },
  {
   "cell_type": "code",
   "execution_count": 30,
   "metadata": {
    "collapsed": false
   },
   "outputs": [
    {
     "name": "stdout",
     "output_type": "stream",
     "text": [
      "classes                       = [nan, 'clinton', 'obama']\n",
      "before:\n",
      "\tparent:\n",
      "\t\tsamples       = 1791\n",
      "\t\tcounts        = [0, 1141, 650]\n",
      "\t\tprobabilities = [0.0, 0.637074260189838, 0.3629257398101619]\n",
      "\t\tentropy       = 0.945085004347\n",
      "after:\n",
      "\tleft child:\n",
      "\t\tsamples       = 801\n",
      "\t\tcounts        = [0, 708, 93]\n",
      "\t\tprobabilities = [0.0, 0.8838951310861424, 0.11610486891385768]\n",
      "\t\tentropy       = 0.518059807076\n",
      "\tright child:\n",
      "\t\tsamples       = 990\n",
      "\t\tcounts        = [0, 433, 557]\n",
      "\t\tprobabilities = [0.0, 0.43737373737373736, 0.5626262626262626]\n",
      "\t\tentropy       = 0.988653582507\n",
      "\n",
      "before entropy                = 0.945085004347\n",
      "after entropy                 = 0.778187019626\n",
      "information gain              = 0.166897984722\n"
     ]
    }
   ],
   "source": [
    "node.decision(lambda df: df.pct_hs_grad <= .78).status()"
   ]
  },
  {
   "cell_type": "markdown",
   "metadata": {},
   "source": [
    "#### Candidate #3: Is high school graduation rate higher than 87%?"
   ]
  },
  {
   "cell_type": "code",
   "execution_count": 32,
   "metadata": {
    "collapsed": false
   },
   "outputs": [
    {
     "name": "stdout",
     "output_type": "stream",
     "text": [
      "classes                       = [nan, 'clinton', 'obama']\n",
      "before:\n",
      "\tparent:\n",
      "\t\tsamples       = 1791\n",
      "\t\tcounts        = [0, 1141, 650]\n",
      "\t\tprobabilities = [0.0, 0.637074260189838, 0.3629257398101619]\n",
      "\t\tentropy       = 0.945085004347\n",
      "after:\n",
      "\tleft child:\n",
      "\t\tsamples       = 1580\n",
      "\t\tcounts        = [0, 1107, 473]\n",
      "\t\tprobabilities = [0.0, 0.700632911392405, 0.2993670886075949]\n",
      "\t\tentropy       = 0.880515856611\n",
      "\tright child:\n",
      "\t\tsamples       = 211\n",
      "\t\tcounts        = [0, 34, 177]\n",
      "\t\tprobabilities = [0.0, 0.16113744075829384, 0.8388625592417062]\n",
      "\t\tentropy       = 0.637023743365\n",
      "\n",
      "before entropy                = 0.945085004347\n",
      "after entropy                 = 0.851829739417\n",
      "information gain              = 0.0932552649308\n"
     ]
    }
   ],
   "source": [
    "node.decision(lambda df: df.pct_hs_grad <= .87).status()"
   ]
  },
  {
   "cell_type": "markdown",
   "metadata": {},
   "source": [
    "> Second cut: Selecting candidate #2: Is high school graduation rate higher than 78%?"
   ]
  },
  {
   "cell_type": "code",
   "execution_count": 33,
   "metadata": {
    "collapsed": true
   },
   "outputs": [],
   "source": [
    "node = node.decision(lambda df: df.pct_hs_grad <= .78)"
   ]
  },
  {
   "cell_type": "markdown",
   "metadata": {},
   "source": [
    "### Third cut"
   ]
  },
  {
   "cell_type": "code",
   "execution_count": 34,
   "metadata": {
    "collapsed": false
   },
   "outputs": [],
   "source": [
    "node = node.right # \"right\" is \"high school graduation rate higher than 78%\""
   ]
  },
  {
   "cell_type": "markdown",
   "metadata": {},
   "source": [
    "#### Candidate #1: Is a county more than 20% black?"
   ]
  },
  {
   "cell_type": "code",
   "execution_count": 35,
   "metadata": {
    "collapsed": false
   },
   "outputs": [
    {
     "name": "stdout",
     "output_type": "stream",
     "text": [
      "classes                       = [nan, 'clinton', 'obama']\n",
      "before:\n",
      "\tparent:\n",
      "\t\tsamples       = 990\n",
      "\t\tcounts        = [0, 433, 557]\n",
      "\t\tprobabilities = [0.0, 0.43737373737373736, 0.5626262626262626]\n",
      "\t\tentropy       = 0.988653582507\n",
      "after:\n",
      "\tleft child:\n",
      "\t\tsamples       = 990\n",
      "\t\tcounts        = [0, 433, 557]\n",
      "\t\tprobabilities = [0.0, 0.43737373737373736, 0.5626262626262626]\n",
      "\t\tentropy       = 0.988653582507\n",
      "\tright child:\n",
      "\t\tsamples       = 0\n",
      "\t\tcounts        = [0, 0, 0]\n",
      "\t\tprobabilities = [0.0, 0.0, 0.0]\n",
      "\t\tentropy       = 0.0\n",
      "\n",
      "before entropy                = 0.988653582507\n",
      "after entropy                 = 0.988653582507\n",
      "information gain              = 0.0\n"
     ]
    }
   ],
   "source": [
    "node.decision(lambda df: df.pct_black06 <= .2).status()"
   ]
  },
  {
   "cell_type": "markdown",
   "metadata": {},
   "source": [
    "> Again, no information gain since this candidate was already selected for the first cut."
   ]
  },
  {
   "cell_type": "markdown",
   "metadata": {},
   "source": [
    "#### Candidate #2: Is high school graduation rate higher than 78%?"
   ]
  },
  {
   "cell_type": "code",
   "execution_count": 36,
   "metadata": {
    "collapsed": false
   },
   "outputs": [
    {
     "name": "stdout",
     "output_type": "stream",
     "text": [
      "classes                       = [nan, 'clinton', 'obama']\n",
      "before:\n",
      "\tparent:\n",
      "\t\tsamples       = 990\n",
      "\t\tcounts        = [0, 433, 557]\n",
      "\t\tprobabilities = [0.0, 0.43737373737373736, 0.5626262626262626]\n",
      "\t\tentropy       = 0.988653582507\n",
      "after:\n",
      "\tleft child:\n",
      "\t\tsamples       = 0\n",
      "\t\tcounts        = [0, 0, 0]\n",
      "\t\tprobabilities = [0.0, 0.0, 0.0]\n",
      "\t\tentropy       = 0.0\n",
      "\tright child:\n",
      "\t\tsamples       = 990\n",
      "\t\tcounts        = [0, 433, 557]\n",
      "\t\tprobabilities = [0.0, 0.43737373737373736, 0.5626262626262626]\n",
      "\t\tentropy       = 0.988653582507\n",
      "\n",
      "before entropy                = 0.988653582507\n",
      "after entropy                 = 0.988653582507\n",
      "information gain              = 0.0\n"
     ]
    }
   ],
   "source": [
    "node.decision(lambda df: df.pct_hs_grad <= .78).status()"
   ]
  },
  {
   "cell_type": "markdown",
   "metadata": {},
   "source": [
    "> No information gain since this candidate was already selected for the second cut."
   ]
  },
  {
   "cell_type": "markdown",
   "metadata": {},
   "source": [
    "#### Candidate #3: Is high school graduation rate higher than 87%?"
   ]
  },
  {
   "cell_type": "code",
   "execution_count": 37,
   "metadata": {
    "collapsed": false
   },
   "outputs": [
    {
     "name": "stdout",
     "output_type": "stream",
     "text": [
      "classes                       = [nan, 'clinton', 'obama']\n",
      "before:\n",
      "\tparent:\n",
      "\t\tsamples       = 990\n",
      "\t\tcounts        = [0, 433, 557]\n",
      "\t\tprobabilities = [0.0, 0.43737373737373736, 0.5626262626262626]\n",
      "\t\tentropy       = 0.988653582507\n",
      "after:\n",
      "\tleft child:\n",
      "\t\tsamples       = 779\n",
      "\t\tcounts        = [0, 399, 380]\n",
      "\t\tprobabilities = [0.0, 0.5121951219512195, 0.4878048780487805]\n",
      "\t\tentropy       = 0.999570839347\n",
      "\tright child:\n",
      "\t\tsamples       = 211\n",
      "\t\tcounts        = [0, 34, 177]\n",
      "\t\tprobabilities = [0.0, 0.16113744075829384, 0.8388625592417062]\n",
      "\t\tentropy       = 0.637023743365\n",
      "\n",
      "before entropy                = 0.988653582507\n",
      "after entropy                 = 0.922300700709\n",
      "information gain              = 0.0663528817986\n"
     ]
    }
   ],
   "source": [
    "node.decision(lambda df: df.pct_hs_grad <= .87).status()"
   ]
  },
  {
   "cell_type": "markdown",
   "metadata": {},
   "source": [
    "> Third cut: Selecting candidate #3: Is high school graduation rate higher than 87%?"
   ]
  }
 ],
 "metadata": {
  "anaconda-cloud": {},
  "kernelspec": {
   "display_name": "Python [Root]",
   "language": "python",
   "name": "Python [Root]"
  },
  "language_info": {
   "codemirror_mode": {
    "name": "ipython",
    "version": 2
   },
   "file_extension": ".py",
   "mimetype": "text/x-python",
   "name": "python",
   "nbconvert_exporter": "python",
   "pygments_lexer": "ipython2",
   "version": "2.7.12"
  }
 },
 "nbformat": 4,
 "nbformat_minor": 0
}
